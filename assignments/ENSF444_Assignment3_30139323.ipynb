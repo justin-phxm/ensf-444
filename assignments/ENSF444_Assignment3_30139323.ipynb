{
  "cells": [
    {
      "cell_type": "markdown",
      "id": "CNDKREiQRJJX",
      "metadata": {
        "id": "CNDKREiQRJJX"
      },
      "source": [
        "<font size=\"+3\"><b>Assignment 3: Non-Linear Models and Validation Metrics</b></font>\n",
        "\n",
        "***\n",
        "* **Full Name** = Justin Pham\n",
        "* **UCID** = 30139323\n",
        "***"
      ]
    },
    {
      "cell_type": "markdown",
      "id": "ce31b39a",
      "metadata": {
        "id": "ce31b39a"
      },
      "source": [
        "<font color='Blue'>\n",
        "In this assignment, you will need to write code that uses non-linear models to perform classification and regression tasks. You will also be asked to describe the process by which you came up with the code. More details can be found below. Please cite any websites or AI tools that you used to help you with this assignment.\n",
        "</font>\n",
        "\n",
        "|                **Question**                | **Point** |\n",
        "|:------------------------------------------:|:---------:|\n",
        "|           **Part 1: Regression**           |  **14.5** |\n",
        "|          Step 0: Import Libraries          |           |\n",
        "|             Step 1: Data Input             |    0.5    |\n",
        "|           Step 2: Data Processing          |     0     |\n",
        "| Step 3: Implement   Machine Learning Model |    0.5    |\n",
        "|           Step 4: Validate Model           |    0.5    |\n",
        "|         Step 5: Visualize   Results        |     3     |\n",
        "|                  Questions                 |     6     |\n",
        "|             Process Description            |     4     |\n",
        "|         **Part 2: Classification**         |  **17.5** |\n",
        "|             Step 1: Data Input             |     2     |\n",
        "|           Step 2: Data Processing          |    1.5    |\n",
        "| Step 3: Implement   Machine Learning Model |           |\n",
        "|            Step 4: Validate Mode           |           |\n",
        "|         Step 5: Visualize   Results        |     4     |\n",
        "|                  Questions                 |     6     |\n",
        "|             Process Description            |     4     |\n",
        "|   **Part 3: Observations/Interpretation**  |   **3**   |\n",
        "|           **Part 4: Reflection**           |   **2**   |\n",
        "|                  **Total**                 |   **37**  |\n",
        "|                                            |           |\n",
        "|                  **Bonus**                 |           |\n",
        "|         **Part 5: Bonus Question**         |   **3**   |"
      ]
    },
    {
      "cell_type": "markdown",
      "id": "cf275ca7",
      "metadata": {
        "id": "cf275ca7"
      },
      "source": [
        "### Import Libraries"
      ]
    },
    {
      "cell_type": "code",
      "execution_count": 85,
      "id": "2b67a661",
      "metadata": {
        "id": "2b67a661"
      },
      "outputs": [],
      "source": [
        "import numpy as np\n",
        "import pandas as pd\n",
        "import matplotlib.pyplot as plt\n",
        "import seaborn as sns"
      ]
    },
    {
      "cell_type": "markdown",
      "id": "5ee2d2c3",
      "metadata": {
        "id": "5ee2d2c3"
      },
      "source": [
        "# **Part 1: Regression (14.5 marks)**\n",
        "\n",
        "For this section, we will be continuing with the concrete example from yellowbrick. You will need to compare these results to the results from the previous assignment. Please use the results from the solution if you were unable to complete Assignment 2"
      ]
    },
    {
      "cell_type": "markdown",
      "id": "8219f163",
      "metadata": {
        "id": "8219f163"
      },
      "source": [
        "## **Step 1:** Data Input (0.5 marks)\n",
        "\n",
        "The data used for this task can be downloaded using the yellowbrick library:\n",
        "https://www.scikit-yb.org/en/latest/api/datasets/concrete.html\n",
        "\n",
        "Use the yellowbrick function `load_concrete()` to load the concrete dataset into the feature matrix `X` and target vector `y`."
      ]
    },
    {
      "cell_type": "code",
      "execution_count": 86,
      "id": "2af8bd32",
      "metadata": {
        "id": "2af8bd32"
      },
      "outputs": [
        {
          "name": "stdout",
          "output_type": "stream",
          "text": [
            "X.shape: (1030, 8), Y.shape: y.shape\n",
            "type(x): <class 'pandas.core.frame.DataFrame'> \n",
            "types(y): <class 'pandas.core.series.Series'>\n"
          ]
        }
      ],
      "source": [
        "# TO DO: Import concrete dataset from yellowbrick library\n",
        "from yellowbrick.datasets.loaders import load_concrete\n",
        "\n",
        "# Load the spam dataset\n",
        "data = load_concrete(return_dataset=True)\n",
        "\n",
        "# TO DO: Print size and type of X and y\n",
        "X, y = data.to_data()\n",
        "print(f\"X.shape: {X.shape}, Y.shape: y.shape\")\n",
        "print(f\"type(x): {type(X)} \\ntypes(y): {type(y)}\")"
      ]
    },
    {
      "cell_type": "markdown",
      "id": "42fea4cc",
      "metadata": {
        "id": "42fea4cc"
      },
      "source": [
        "## **Step 2:** Data Processing (0 marks)\n",
        "\n",
        "Data processing was completed in the previous assignment. No need to repeat here.\n",
        "\n",
        "<font color='red'>\n",
        "This is just for your information and no action is required from you for this step.\n",
        "</font>"
      ]
    },
    {
      "cell_type": "markdown",
      "id": "2a245d00",
      "metadata": {
        "id": "2a245d00"
      },
      "source": [
        "## **Step 3:** Implement Machine Learning Model (0.5 marks)\n",
        "\n",
        "1. Import the Decision Tree, Random Forest and Gradient Boosting Machines regression models from sklearn\n",
        "2. Instantiate the three models with `max_depth = 5`. Are there any other parameters that you will need to set?\n",
        "3. Implement each machine learning model with `X` and `y`"
      ]
    },
    {
      "cell_type": "markdown",
      "id": "3f994e31",
      "metadata": {
        "id": "3f994e31"
      },
      "source": [
        "## **Step 4:** Validate Model (0.5 marks)\n",
        "\n",
        "Calculate the average training and validation accuracy using mean squared error with cross-validation. To do this, you will need to set `scoring='neg_mean_squared_error'` in your `cross_validate` function and negate the results (multiply by -1)"
      ]
    },
    {
      "cell_type": "markdown",
      "id": "5fc3f7a8",
      "metadata": {
        "id": "5fc3f7a8"
      },
      "source": [
        "## **Step 5:** Visualize Results (3 marks)\n",
        "\n",
        "1. Create a pandas DataFrame `results` with columns: Training accuracy and Validation accuracy, and index: DT, RF and GB\n",
        "2. Add the accuracy results to the `results` DataFrame\n",
        "3. Print `results`"
      ]
    },
    {
      "cell_type": "code",
      "execution_count": 87,
      "id": "fdc93a78",
      "metadata": {
        "id": "fdc93a78"
      },
      "outputs": [
        {
          "name": "stdout",
          "output_type": "stream",
          "text": [
            "   Training Accuracy Validation Accuracy\n",
            "DT         47.918561          163.087775\n",
            "RF         32.055432          156.404972\n",
            "GB           3.73927           99.360259\n"
          ]
        }
      ],
      "source": [
        "# TO DO: ADD YOUR CODE HERE FOR STEPS 3-5\n",
        "# Import Decision tree, random forest, and gradient boosting from sklearn\n",
        "from sklearn.tree import DecisionTreeRegressor\n",
        "from sklearn.ensemble import RandomForestRegressor, GradientBoostingRegressor\n",
        "from sklearn.model_selection import train_test_split\n",
        "# 2. Instantiate the models with parameters\n",
        "max_depth = 5\n",
        "n_estimators = 100\n",
        "learning_rate = 0.1\n",
        "random_state = 0\n",
        "\n",
        "dt = DecisionTreeRegressor(max_depth=max_depth, random_state=random_state)\n",
        "rf = RandomForestRegressor(n_estimators=n_estimators, max_depth=max_depth, random_state=random_state)\n",
        "gb = GradientBoostingRegressor(n_estimators=n_estimators, learning_rate=learning_rate, max_depth=max_depth, random_state=random_state)\n",
        "\n",
        "# 3. Implement each model with X and y\n",
        "X_train, X_test, y_train, y_test = train_test_split(X, y, test_size=0.2, random_state=random_state)\n",
        "dt.fit(X_train, y_train)\n",
        "rf.fit(X_train, y_train)\n",
        "gb.fit(X_train, y_train)\n",
        "\n",
        "# Calculate average training and validation accuracy with MSE cross-validation\n",
        "from sklearn.model_selection import cross_validate\n",
        "from sklearn import metrics\n",
        "\n",
        "scoring=\"neg_mean_squared_error\"\n",
        "\n",
        "accuracies = {}\n",
        "models = [dt, rf, gb]\n",
        "\n",
        "# Perform cross-validation for each model\n",
        "for model in models:\n",
        "    cv_results = cross_validate(model, X, y, cv=5, scoring=scoring, return_train_score=True)\n",
        "    accuracies[model.__class__.__name__] = {\n",
        "        \"train\": -1 * cv_results[\"train_score\"].mean(),\n",
        "        \"test\": -1 * cv_results[\"test_score\"].mean()\n",
        "    }\n",
        "\n",
        "# 1. Create a pandas dataframe with the accuracies\n",
        "results = pd.DataFrame(columns=[\"Training Accuracy\", \"Validation Accuracy\"], index=[\"DT\", \"RF\", \"GB\"])\n",
        "\n",
        "# 2. Add the accuracies to the dataframe\n",
        "for index, (k, v) in enumerate(accuracies.items()):\n",
        "    results.iloc[index] = [v[\"train\"], v[\"test\"]]\n",
        "\n",
        "# 3. Print the results\n",
        "print(results)"
      ]
    },
    {
      "cell_type": "markdown",
      "id": "31715a9d",
      "metadata": {
        "id": "31715a9d"
      },
      "source": [
        "Repeat the step above to print the R2 score instead of the mean-squared error. For this case, you can use `scoring='r2'`.\n",
        "\n",
        "<font color='red'>\n",
        "Due to the similarity of this to the main part of step 5, this part is 0.5 and the main part of step 5 is 2.5 of the total 3 points for this step.\n",
        "</font>"
      ]
    },
    {
      "cell_type": "code",
      "execution_count": 88,
      "id": "83539f47",
      "metadata": {
        "id": "83539f47"
      },
      "outputs": [
        {
          "name": "stdout",
          "output_type": "stream",
          "text": [
            "   Training R2 Validation R2\n",
            "DT    0.822887       0.17621\n",
            "RF    0.881221      0.173748\n",
            "GB    0.986436      0.473701\n"
          ]
        }
      ],
      "source": [
        "# TO DO: ADD YOUR CODE HERE\n",
        "# This would be similar to the main step, the main difference is the scoring.\n",
        "\n",
        "scoring=\"r2\"\n",
        "\n",
        "accuracies = {}\n",
        "models = [dt, rf, gb]\n",
        "\n",
        "# Perform cross-validation for each model\n",
        "for model in models:\n",
        "    cv_results = cross_validate(model, X, y, cv=5, scoring=scoring, return_train_score=True)\n",
        "    accuracies[model.__class__.__name__] = {\n",
        "        \"train\": cv_results[\"train_score\"].mean(),\n",
        "        \"test\": cv_results[\"test_score\"].mean()\n",
        "    }\n",
        "\n",
        "# 1. Create a pandas dataframe with the accuracies\n",
        "results = pd.DataFrame(columns=[\"Training R2\", \"Validation R2\"], index=[\"DT\", \"RF\", \"GB\"])\n",
        "\n",
        "# 2. Add the accuracies to the dataframe\n",
        "for index, (k, v) in enumerate(accuracies.items()):\n",
        "    results.iloc[index] = [v[\"train\"], v[\"test\"]]\n",
        "\n",
        "# 3. Print the results\n",
        "print(results)"
      ]
    },
    {
      "cell_type": "code",
      "execution_count": 89,
      "id": "af22a4de",
      "metadata": {},
      "outputs": [
        {
          "name": "stdout",
          "output_type": "stream",
          "text": [
            "   Training Accuracy Validation Accuracy Training R2 Validation R2\n",
            "DT         47.918561          163.087775    0.822887       0.17621\n",
            "RF         32.055432          156.404972    0.881221      0.173748\n",
            "GB           3.73927           99.360259    0.986436      0.473701\n"
          ]
        }
      ],
      "source": [
        "accuracies = {}\n",
        "models = [dt, rf, gb]\n",
        "for model in models:\n",
        "    cv_results = cross_validate(model, X, y, cv=5, scoring=\"neg_mean_squared_error\", return_train_score=True)\n",
        "    cv_results1 = cross_validate(model, X, y, cv=5, scoring=\"r2\", return_train_score=True)\n",
        "    \n",
        "    accuracies[model.__class__.__name__] = {\n",
        "        \"trainMSE\": -1 * cv_results[\"train_score\"].mean(),\n",
        "        \"testMSE\": -1 * cv_results[\"test_score\"].mean(),\n",
        "        \"trainR2\": cv_results1[\"train_score\"].mean(),\n",
        "        \"testR2\": cv_results1[\"test_score\"].mean(),\n",
        "    }\n",
        "\n",
        "results = pd.DataFrame(columns=[\"Training Accuracy\", \"Validation Accuracy\", \"Training R2\", \"Validation R2\"], index=[\"DT\", \"RF\", \"GB\"])\n",
        "for index, (k, v) in enumerate(accuracies.items()):\n",
        "    results.iloc[index] = [v[\"trainMSE\"], v[\"testMSE\"], v[\"trainR2\"], v[\"testR2\"]]\n",
        "print(results)"
      ]
    },
    {
      "cell_type": "markdown",
      "id": "a5257a98",
      "metadata": {
        "id": "a5257a98"
      },
      "source": [
        "## Questions (6 marks)\n",
        "1. How do these results compare to the results using a linear model in the previous assignment? Use values.\n",
        "1. Out of the models you tested, which model would you select for this dataset and why?\n",
        "1. If you wanted to increase the accuracy of the tree-based models, what would you do? Provide two suggestions."
      ]
    },
    {
      "cell_type": "markdown",
      "id": "2PRnpiFjVDzv",
      "metadata": {
        "id": "2PRnpiFjVDzv"
      },
      "source": [
        "<font color='Green'><b>\n",
        "\n",
        "1. The R2 training accuracy scores for the linear model (0.61) are lower than those of the tree-based models (DT: 0.82, RF: 0.88, GB: 0.99) from assignment 2. However, on unseen data, the trend flips. The linear model (0.64 R2 Validation accuracy) outperforms all tree-based models (DT: 0.18, RF: 0.17, GB: 0.47 R2). This suggests overfitting in the tree-based models. They excel on training data but fail to generalize well to new examples.\n",
        "\n",
        "Linear Model results\n",
        "```\n",
        "     Training Accuracy  Validation Accuracy\n",
        "MSE         110.345501            95.635335\n",
        "R2            0.609071             0.636898\n",
        "```\n",
        "\n",
        "Tree Based Model results\n",
        "```\n",
        "   Training Accuracy Validation Accuracy Training R2 Validation R2\n",
        "DT         47.918561          163.087775    0.822887       0.17621\n",
        "RF         32.055432          156.404972    0.881221      0.173748\n",
        "GB           3.73927           99.360259    0.986436      0.473701\n",
        "\n",
        "\n",
        "```\n",
        "\n",
        "1. From the models created in this assignment, DT, RF, and GB, I would choose the GB model because of it's high scores. We can see that GB outperformed DT and RF in both accuracy and R2 in all scenarios. What was especially impressive was the Validation R2 score where GB received a score of `(0.47)` compared to DT and RF's scores of `(0.18, 0.17)` respectively.\n",
        "\n",
        "1. To increase the accuracy of the tree-based models, there are a few options and parameters we can tune. The first option could be to increase the size of the data set. With more data, the models will get closer to the true value of the data.\n",
        "The second option could be to increase the max_depth of the trees. In this assignment, we set max_depth = 5, meaning that the trees would have a total depth of 5. By increasing this value closer, overfitting is increased, but we may see higher accuracy scores.\n",
        "\n",
        "</b></font>"
      ]
    },
    {
      "cell_type": "markdown",
      "id": "37b238f4",
      "metadata": {
        "id": "37b238f4"
      },
      "source": [
        "## Process Description (4 marks)\n",
        "Please describe the process you used to create your code. Cite any websites or generative AI tools used. You can use the following questions as guidance:\n",
        "1. Where did you source your code?\n",
        "1. In what order did you complete the steps?\n",
        "1. If you used generative AI, what prompts did you use? Did you need to modify the code at all? Why or why not?\n",
        "1. Did you have any challenges? If yes, what were they? If not, what helped you to be successful?"
      ]
    },
    {
      "cell_type": "markdown",
      "id": "93097bfe",
      "metadata": {
        "id": "93097bfe"
      },
      "source": [
        "<font color='Green'><b>\n",
        "\n",
        "1. Where did you source your code?\n",
        "All the code generated in this assignment was done personally, from the previous assignments and labs,  and through github copilot.\n",
        "1. In what order did you complete the steps?\n",
        "I completed the steps from top to bottom in order.\n",
        "1. If you used generative AI, what prompts did you use? Did you need to modify the code at all? Why or why not?\n",
        "I did not need to use any prompts as copilot automatically suggested code based on the entire repository.\n",
        "1. Did you have any challenges? If yes, what were they? If not, what helped you to be successful?\n",
        "One of the challenges I had was with cross_validation(). I was not familiar with the use of this function and did not see it being used in previous labs and assignments. Reading the documentation helped me become successful and overcome this challenge\n",
        "\n",
        "</b></font>"
      ]
    },
    {
      "cell_type": "markdown",
      "id": "f7c6de86",
      "metadata": {
        "id": "f7c6de86"
      },
      "source": [
        "# **Part 2: Classification (17.5 marks)**\n",
        "\n",
        "You have been asked to develop code that can help the user classify different wine samples. Following the machine learning workflow described in class, write the relevant code in each of the steps below:"
      ]
    },
    {
      "cell_type": "markdown",
      "id": "5f9d33a8",
      "metadata": {
        "id": "5f9d33a8"
      },
      "source": [
        "## **Step 1:** Data Input (2 marks)\n",
        "\n",
        "The data used for this task can be downloaded from UCI: https://archive.ics.uci.edu/dataset/109/wine\n",
        "\n",
        "Use the pandas library to load the dataset. You must define the column headers if they are not included in the dataset\n",
        "\n",
        "You will need to split the dataset into feature matrix `X` and target vector `y`. Which column represents the target vector?\n",
        "\n",
        "Print the size and type of `X` and `y`"
      ]
    },
    {
      "cell_type": "code",
      "execution_count": 90,
      "id": "33583c67",
      "metadata": {
        "id": "33583c67"
      },
      "outputs": [
        {
          "name": "stdout",
          "output_type": "stream",
          "text": [
            "X.shape: (177, 13), Y.shape: (177,)\n",
            "type(x): <class 'pandas.core.frame.DataFrame'> \n",
            "types(y): <class 'pandas.core.series.Series'>\n"
          ]
        }
      ],
      "source": [
        "import pandas as pd\n",
        "\n",
        "# Replace 'your_data.data' with the actual filename and path\n",
        "attributes = [\n",
        "    \"Alcohol\",\n",
        "    \"Malic acid\",\n",
        "    \"Ash\",\n",
        "    \"Alcalinity of ash\",\n",
        "    \"Magnesium\",\n",
        "    \"Total phenols\",\n",
        "    \"Flavanoids\",\n",
        "    \"Nonflavanoid phenols\",\n",
        "    \"Proanthocyanins\",\n",
        "    \"Color intensity\",\n",
        "    \"Hue\",\n",
        "    \"OD280/OD315 of diluted wines\",\n",
        "    \"Proline\"\n",
        "]\n",
        "data = pd.read_csv(\"wine.data\")\n",
        "# Access the data as a DataFrames\n",
        "data.columns = [\"Class\"] + attributes\n",
        "\n",
        "y = data[\"Class\"]\n",
        "X = data[attributes]\n",
        "print(f\"X.shape: {X.shape}, Y.shape: {y.shape}\")\n",
        "print(f\"type(x): {type(X)} \\ntypes(y): {type(y)}\")\n",
        "\n",
        "# Target vector is the \"Class\" column\n"
      ]
    },
    {
      "cell_type": "markdown",
      "id": "156db208",
      "metadata": {
        "id": "156db208"
      },
      "source": [
        "## **Step 2:** Data Processing (1.5 marks)"
      ]
    },
    {
      "cell_type": "markdown",
      "id": "a28af110",
      "metadata": {
        "id": "a28af110"
      },
      "source": [
        "Print the first five rows of the dataset to inspect:"
      ]
    },
    {
      "cell_type": "code",
      "execution_count": 91,
      "id": "ea266921",
      "metadata": {
        "id": "ea266921"
      },
      "outputs": [
        {
          "data": {
            "text/html": [
              "<div>\n",
              "<style scoped>\n",
              "    .dataframe tbody tr th:only-of-type {\n",
              "        vertical-align: middle;\n",
              "    }\n",
              "\n",
              "    .dataframe tbody tr th {\n",
              "        vertical-align: top;\n",
              "    }\n",
              "\n",
              "    .dataframe thead th {\n",
              "        text-align: right;\n",
              "    }\n",
              "</style>\n",
              "<table border=\"1\" class=\"dataframe\">\n",
              "  <thead>\n",
              "    <tr style=\"text-align: right;\">\n",
              "      <th></th>\n",
              "      <th>Class</th>\n",
              "      <th>Alcohol</th>\n",
              "      <th>Malic acid</th>\n",
              "      <th>Ash</th>\n",
              "      <th>Alcalinity of ash</th>\n",
              "      <th>Magnesium</th>\n",
              "      <th>Total phenols</th>\n",
              "      <th>Flavanoids</th>\n",
              "      <th>Nonflavanoid phenols</th>\n",
              "      <th>Proanthocyanins</th>\n",
              "      <th>Color intensity</th>\n",
              "      <th>Hue</th>\n",
              "      <th>OD280/OD315 of diluted wines</th>\n",
              "      <th>Proline</th>\n",
              "    </tr>\n",
              "  </thead>\n",
              "  <tbody>\n",
              "    <tr>\n",
              "      <th>0</th>\n",
              "      <td>1</td>\n",
              "      <td>13.20</td>\n",
              "      <td>1.78</td>\n",
              "      <td>2.14</td>\n",
              "      <td>11.2</td>\n",
              "      <td>100</td>\n",
              "      <td>2.65</td>\n",
              "      <td>2.76</td>\n",
              "      <td>0.26</td>\n",
              "      <td>1.28</td>\n",
              "      <td>4.38</td>\n",
              "      <td>1.05</td>\n",
              "      <td>3.40</td>\n",
              "      <td>1050</td>\n",
              "    </tr>\n",
              "    <tr>\n",
              "      <th>1</th>\n",
              "      <td>1</td>\n",
              "      <td>13.16</td>\n",
              "      <td>2.36</td>\n",
              "      <td>2.67</td>\n",
              "      <td>18.6</td>\n",
              "      <td>101</td>\n",
              "      <td>2.80</td>\n",
              "      <td>3.24</td>\n",
              "      <td>0.30</td>\n",
              "      <td>2.81</td>\n",
              "      <td>5.68</td>\n",
              "      <td>1.03</td>\n",
              "      <td>3.17</td>\n",
              "      <td>1185</td>\n",
              "    </tr>\n",
              "    <tr>\n",
              "      <th>2</th>\n",
              "      <td>1</td>\n",
              "      <td>14.37</td>\n",
              "      <td>1.95</td>\n",
              "      <td>2.50</td>\n",
              "      <td>16.8</td>\n",
              "      <td>113</td>\n",
              "      <td>3.85</td>\n",
              "      <td>3.49</td>\n",
              "      <td>0.24</td>\n",
              "      <td>2.18</td>\n",
              "      <td>7.80</td>\n",
              "      <td>0.86</td>\n",
              "      <td>3.45</td>\n",
              "      <td>1480</td>\n",
              "    </tr>\n",
              "    <tr>\n",
              "      <th>3</th>\n",
              "      <td>1</td>\n",
              "      <td>13.24</td>\n",
              "      <td>2.59</td>\n",
              "      <td>2.87</td>\n",
              "      <td>21.0</td>\n",
              "      <td>118</td>\n",
              "      <td>2.80</td>\n",
              "      <td>2.69</td>\n",
              "      <td>0.39</td>\n",
              "      <td>1.82</td>\n",
              "      <td>4.32</td>\n",
              "      <td>1.04</td>\n",
              "      <td>2.93</td>\n",
              "      <td>735</td>\n",
              "    </tr>\n",
              "    <tr>\n",
              "      <th>4</th>\n",
              "      <td>1</td>\n",
              "      <td>14.20</td>\n",
              "      <td>1.76</td>\n",
              "      <td>2.45</td>\n",
              "      <td>15.2</td>\n",
              "      <td>112</td>\n",
              "      <td>3.27</td>\n",
              "      <td>3.39</td>\n",
              "      <td>0.34</td>\n",
              "      <td>1.97</td>\n",
              "      <td>6.75</td>\n",
              "      <td>1.05</td>\n",
              "      <td>2.85</td>\n",
              "      <td>1450</td>\n",
              "    </tr>\n",
              "  </tbody>\n",
              "</table>\n",
              "</div>"
            ],
            "text/plain": [
              "   Class  Alcohol  Malic acid   Ash  Alcalinity of ash  Magnesium  \\\n",
              "0      1    13.20        1.78  2.14               11.2        100   \n",
              "1      1    13.16        2.36  2.67               18.6        101   \n",
              "2      1    14.37        1.95  2.50               16.8        113   \n",
              "3      1    13.24        2.59  2.87               21.0        118   \n",
              "4      1    14.20        1.76  2.45               15.2        112   \n",
              "\n",
              "   Total phenols  Flavanoids  Nonflavanoid phenols  Proanthocyanins  \\\n",
              "0           2.65        2.76                  0.26             1.28   \n",
              "1           2.80        3.24                  0.30             2.81   \n",
              "2           3.85        3.49                  0.24             2.18   \n",
              "3           2.80        2.69                  0.39             1.82   \n",
              "4           3.27        3.39                  0.34             1.97   \n",
              "\n",
              "   Color intensity   Hue  OD280/OD315 of diluted wines  Proline  \n",
              "0             4.38  1.05                          3.40     1050  \n",
              "1             5.68  1.03                          3.17     1185  \n",
              "2             7.80  0.86                          3.45     1480  \n",
              "3             4.32  1.04                          2.93      735  \n",
              "4             6.75  1.05                          2.85     1450  "
            ]
          },
          "execution_count": 91,
          "metadata": {},
          "output_type": "execute_result"
        }
      ],
      "source": [
        "# TO DO: ADD YOUR CODE HERE\n",
        "data.head()"
      ]
    },
    {
      "cell_type": "markdown",
      "id": "834fc8fe",
      "metadata": {
        "id": "834fc8fe"
      },
      "source": [
        "Check to see if there are any missing values in the dataset. If necessary, select an appropriate method to fill-in the missing values"
      ]
    },
    {
      "cell_type": "code",
      "execution_count": 92,
      "id": "97c6e9dc",
      "metadata": {
        "id": "97c6e9dc"
      },
      "outputs": [
        {
          "data": {
            "text/plain": [
              "Alcohol                         0\n",
              "Malic acid                      0\n",
              "Ash                             0\n",
              "Alcalinity of ash               0\n",
              "Magnesium                       0\n",
              "Total phenols                   0\n",
              "Flavanoids                      0\n",
              "Nonflavanoid phenols            0\n",
              "Proanthocyanins                 0\n",
              "Color intensity                 0\n",
              "Hue                             0\n",
              "OD280/OD315 of diluted wines    0\n",
              "Proline                         0\n",
              "dtype: int64"
            ]
          },
          "execution_count": 92,
          "metadata": {},
          "output_type": "execute_result"
        }
      ],
      "source": [
        "# TO DO: ADD YOUR CODE HERE\n",
        "checkX = X.isnull().sum()\n",
        "checkX"
      ]
    },
    {
      "cell_type": "markdown",
      "id": "070956af",
      "metadata": {
        "id": "070956af"
      },
      "source": [
        "How many samples do we have of each type of wine?"
      ]
    },
    {
      "cell_type": "code",
      "execution_count": 93,
      "id": "b37a6fd9",
      "metadata": {
        "id": "b37a6fd9"
      },
      "outputs": [
        {
          "data": {
            "text/plain": [
              "2    71\n",
              "1    58\n",
              "3    48\n",
              "Name: Class, dtype: int64"
            ]
          },
          "execution_count": 93,
          "metadata": {},
          "output_type": "execute_result"
        }
      ],
      "source": [
        "# TO DO: ADD YOUR CODE HERE\n",
        "# wineA = [wine for wine in y if wine == 1]\n",
        "# wineB = [wine for wine in y if wine == 2]\n",
        "# wineC = [wine for wine in y if wine == 3]\n",
        "# print(f\"Class 1: {len(wineA)}\")\n",
        "# print(f\"Class 2: {len(wineB)}\")\n",
        "# print(f\"Class 3: {len(wineC)}\")\n",
        "y.value_counts()"
      ]
    },
    {
      "cell_type": "markdown",
      "id": "70e6c46f",
      "metadata": {
        "id": "70e6c46f"
      },
      "source": [
        "## **Step 3:** Implement Machine Learning Model\n",
        "\n",
        "1. Import `SVC` and `DecisionTreeClassifier` from sklearn\n",
        "2. Instantiate models as `SVC()` and `DecisionTreeClassifier(max_depth = 3)`\n",
        "3. Implement the machine learning model with `X` and `y`"
      ]
    },
    {
      "cell_type": "markdown",
      "id": "0870b0d2",
      "metadata": {
        "id": "0870b0d2"
      },
      "source": [
        "## **Step 4:** Validate Model\n",
        "\n",
        "Calculate the average training and validation accuracy using `cross_validate` for the two different models listed in Step 3. For this case, use `scoring='accuracy'`"
      ]
    },
    {
      "cell_type": "markdown",
      "id": "bb0bbd83",
      "metadata": {
        "id": "bb0bbd83"
      },
      "source": [
        "## **Step 5:** Visualize Results (4 marks)\n",
        "\n",
        "<font color='red'>\n",
        "There is no individual mark for Steps 3 and 4 and those grades are included within the four points.\n",
        "\n",
        "</font>\n",
        "\n",
        "### **Step 5.1:** Compare Models (2 out of total 4 marks)\n",
        "1. Create a pandas DataFrame `results` with columns: Training accuracy and Validation accuracy\n",
        "2. Add the data size, training and validation accuracy for each dataset to the `results` DataFrame\n",
        "3. Print `results`"
      ]
    },
    {
      "cell_type": "code",
      "execution_count": 94,
      "id": "be4b5c0a",
      "metadata": {
        "id": "be4b5c0a"
      },
      "outputs": [
        {
          "name": "stdout",
          "output_type": "stream",
          "text": [
            "    Training Accuracy Validation Accuracy\n",
            "SVC          0.703456            0.644603\n",
            "DT           0.967556            0.926984\n"
          ]
        }
      ],
      "source": [
        "# TO DO: ADD YOUR CODE HERE FOR STEPS 3-5\n",
        "# Step 3. Import the models\n",
        "from sklearn.svm import SVC\n",
        "from sklearn.tree import DecisionTreeClassifier\n",
        "from sklearn.model_selection import cross_validate, train_test_split\n",
        "random_state = 0\n",
        "svcModel = SVC( random_state=random_state)\n",
        "dtModel = DecisionTreeClassifier(max_depth=3, random_state=random_state)\n",
        "\n",
        "X_train, X_test, y_train, y_test = train_test_split(X, y, random_state=random_state)\n",
        "\n",
        "svcModel.fit(X_train, y_train)\n",
        "dtModel.fit(X_train, y_train)\n",
        "# Step 4. Validate the models\n",
        "scoring = \"accuracy\"\n",
        "svc_cv_results = cross_validate(svcModel, X, y, cv=5, scoring=scoring, return_train_score=True)\n",
        "svcResults = {\n",
        "    \"train\": svc_cv_results[\"train_score\"].mean(),\n",
        "    \"test\": svc_cv_results[\"test_score\"].mean()\n",
        "}\n",
        "dt_cv_results = cross_validate(dtModel, X, y, cv=5, scoring=scoring, return_train_score=True)\n",
        "dtResults = {\n",
        "    \"train\": dt_cv_results[\"train_score\"].mean(),\n",
        "    \"test\": dt_cv_results[\"test_score\"].mean()\n",
        "}\n",
        "\n",
        "# Step 5: Visualize the results\n",
        "results = pd.DataFrame(columns=[\"Training Accuracy\", \"Validation Accuracy\"], index=[\"SVC\", \"DT\"])\n",
        "results.iloc[0] = [svcResults[\"train\"], svcResults[\"test\"]]\n",
        "results.iloc[1] = [dtResults[\"train\"], dtResults[\"test\"]]\n",
        "print(results)\n",
        "\n",
        "# Note: for any random state parameters, you can use random_state = 0\n",
        "# HINT: USING A LOOP TO STORE THE DATA IN YOUR RESULTS DATAFRAME WILL BE MORE EFFICIENT"
      ]
    },
    {
      "cell_type": "markdown",
      "id": "f2e17878",
      "metadata": {
        "id": "f2e17878"
      },
      "source": [
        "### **Step 5.2:** Visualize Classification Errors  (2 out of total 4 marks)\n",
        "Which method gave the highest accuracy? Use this method to print the confusion matrix and classification report:"
      ]
    },
    {
      "cell_type": "code",
      "execution_count": 95,
      "id": "44b091a4",
      "metadata": {
        "id": "44b091a4"
      },
      "outputs": [
        {
          "name": "stdout",
          "output_type": "stream",
          "text": [
            "Confusion Matrix for SVC\n",
            "              precision    recall  f1-score   support\n",
            "\n",
            "           1       0.94      0.94      0.94        16\n",
            "           2       0.81      0.85      0.83        20\n",
            "           3       0.62      0.56      0.59         9\n",
            "\n",
            "    accuracy                           0.82        45\n",
            "   macro avg       0.79      0.78      0.79        45\n",
            "weighted avg       0.82      0.82      0.82        45\n",
            "\n"
          ]
        },
        {
          "data": {
            "image/png": "[encoded data removed]",
            "text/plain": [
              "<Figure size 576x396 with 2 Axes>"
            ]
          },
          "metadata": {},
          "output_type": "display_data"
        }
      ],
      "source": [
        "# TO DO: Implement best model\n",
        "from sklearn.metrics import ConfusionMatrixDisplay\n",
        "from sklearn.metrics import confusion_matrix\n",
        "from sklearn.metrics import classification_report\n",
        "\n",
        "cm = confusion_matrix(y_test, svcModel.predict(X_test), labels=svcModel.classes_)\n",
        "disp = ConfusionMatrixDisplay(confusion_matrix=cm, display_labels=svcModel.classes_)\n",
        "\n",
        "print(\"Confusion Matrix for SVC\")\n",
        "disp.plot()\n",
        "print(classification_report(y_test, svcModel.predict(X_test)))\n",
        "\n"
      ]
    },
    {
      "cell_type": "code",
      "execution_count": 96,
      "id": "35d7dedd",
      "metadata": {},
      "outputs": [
        {
          "name": "stdout",
          "output_type": "stream",
          "text": [
            "Number of incorrectly classified samples: 6\n"
          ]
        }
      ],
      "source": [
        "incorrect_count = np.sum(cm != np.diag(cm))\n",
        "print(f\"Number of incorrectly classified samples: {incorrect_count}\")"
      ]
    },
    {
      "cell_type": "code",
      "execution_count": 97,
      "id": "5e9a979f",
      "metadata": {},
      "outputs": [
        {
          "name": "stdout",
          "output_type": "stream",
          "text": [
            "Confusion Matrix for DecisionTreeClassifier\n",
            "              precision    recall  f1-score   support\n",
            "\n",
            "           1       0.94      1.00      0.97        16\n",
            "           2       1.00      0.85      0.92        20\n",
            "           3       0.82      1.00      0.90         9\n",
            "\n",
            "    accuracy                           0.93        45\n",
            "   macro avg       0.92      0.95      0.93        45\n",
            "weighted avg       0.94      0.93      0.93        45\n",
            "\n"
          ]
        },
        {
          "data": {
            "image/png": "[encoded data removed]",
            "text/plain": [
              "<Figure size 576x396 with 2 Axes>"
            ]
          },
          "metadata": {},
          "output_type": "display_data"
        }
      ],
      "source": [
        "cm = confusion_matrix(y_test, dtModel.predict(X_test), labels=dtModel.classes_)\n",
        "disp = ConfusionMatrixDisplay(confusion_matrix=cm, display_labels=dtModel.classes_)\n",
        "\n",
        "print(\"Confusion Matrix for DecisionTreeClassifier\")\n",
        "disp.plot()\n",
        "print(classification_report(y_test, dtModel.predict(X_test)))"
      ]
    },
    {
      "cell_type": "code",
      "execution_count": 98,
      "id": "63290af9",
      "metadata": {},
      "outputs": [
        {
          "name": "stdout",
          "output_type": "stream",
          "text": [
            "Number of incorrectly classified samples: 6\n"
          ]
        }
      ],
      "source": [
        "incorrect_count = np.sum(cm != np.diag(cm))\n",
        "print(f\"Number of incorrectly classified samples: {incorrect_count}\")"
      ]
    },
    {
      "cell_type": "markdown",
      "id": "bf319621",
      "metadata": {
        "id": "bf319621"
      },
      "source": [
        "## Questions (6 marks)\n",
        "1. How do the training and validation accuracy change depending on the method used? Explain with values.\n",
        "1. What are two reasons why the support vector machines model did not work as well as the tree-based model?\n",
        "1. How many samples were incorrectly classified in step 5.2?\n",
        "1. In this case, is maximizing precision or recall more important? Why?"
      ]
    },
    {
      "cell_type": "markdown",
      "id": "1FQstcwnXXng",
      "metadata": {
        "id": "1FQstcwnXXng"
      },
      "source": [
        "\n",
        "<font color='Green'><b>\n",
        "\n",
        "1. The analysis reveals that the Decision Tree classifier significantly outperforms the SVC model based on both training and validation accuracy:\n",
        "\n",
        "Training Accuracy: Decision Tree (0.97) vs. SVC (0.70)\n",
        "Validation Accuracy: Decision Tree (0.93) vs. SVC (0.64)\n",
        "\n",
        "```\n",
        "    Training Accuracy Validation Accuracy\n",
        "SVC          0.703456            0.644603\n",
        "DT           0.967556            0.926984\n",
        "```\n",
        "1. The first reason why SVM models did not perform as well as tree based models may be due to the nature of the data. Generally, SVMs work well on linear separable data and decision trees are more flexible and can support non-linear data. Perhaps the nature of the wine dataset was non-linear. Another reason why the SVM model did not perform as well may be due to an inappropriate kernel selection. The kernel function that was used was the \"RBF\", or \"Radial Basis Function\" which is the default kernal in sklearn's SVC class. Perhaps a different kernal function such as \"sigmoid\" would have performed better.\n",
        "\n",
        "1. For the decision tree classifier and SVC, the number of incorrectly classified samples in each model was 6. \n",
        "\n",
        "1. Precision answers the question, \"Out of all the items the model classified as positive, how many were actually positive.\" Recall answers the question, \"Out of all the actual positve cases, how many did the model correctly identify as positive.\" In wine classification, high precision might be more crucial. Misclassifying a wine (false positive) could be more detrimental than missing some legitimate examples (false negative). For instance, recommending a low-quality wine as high-quality could damage customer trust, whereas missing a potentially good wine might be less critical. However, the final choice between prioritizing precision or recall depends on the specific costs and priorities of your specific task.\n",
        "\n",
        "\n",
        "</b></font>"
      ]
    },
    {
      "cell_type": "markdown",
      "id": "664ff8ae",
      "metadata": {
        "id": "664ff8ae"
      },
      "source": [
        "## Process Description (4 marks)\n",
        "Please describe the process you used to create your code. Cite any websites or generative AI tools used. You can use the following questions as guidance:\n",
        "1. Where did you source your code?\n",
        "1. In what order did you complete the steps?\n",
        "1. If you used generative AI, what prompts did you use? Did you need to modify the code at all? Why or why not?\n",
        "1. Did you have any challenges? If yes, what were they? If not, what helped you to be successful?"
      ]
    },
    {
      "cell_type": "markdown",
      "id": "d0e837da",
      "metadata": {
        "id": "d0e837da"
      },
      "source": [
        "<font color='Green'><b>\n",
        "1. Where did you source your code? \n",
        "All the code generated in this assignment was done personally, from the previous assignments and labs,  and through github copilot.\n",
        "\n",
        "1. In what order did you complete the steps?\n",
        "I completed the steps from top to bottom in order.\n",
        "\n",
        "1. If you used generative AI, what prompts did you use? Did you need to modify the code at all? Why or why not?\n",
        "The prompt I used for this part of the assignment was this:\n",
        "```How can I find out how many samples were incorrectly classified```\n",
        "The response was:\n",
        "`incorrect_count = np.sum(cm != np.diag(cm))`\n",
        "I did this because it was not obvious how I could have achieved this otherwise as I was not very familiar with numpy methods.\n",
        "\n",
        "\n",
        "1. Did you have any challenges? If yes, what were they? If not, what helped you to be successful?\n",
        "The only challenge I had was determining the number of incorrect samples. I considered just reading off the confusion matrix but realized that it would take too long. Instead, I used AI tools to help me find a function to find the number of incorrect samples.\n",
        "\n",
        "</b></font>"
      ]
    },
    {
      "cell_type": "markdown",
      "id": "4cd7358d",
      "metadata": {
        "id": "4cd7358d"
      },
      "source": [
        "# **Part 3: Observations/Interpretation (3 marks)**\n",
        "\n",
        "Describe any pattern you see in the results. Relate your findings to what we discussed during lectures. Include data to justify your findings."
      ]
    },
    {
      "cell_type": "markdown",
      "id": "F3ifv218XL62",
      "metadata": {
        "id": "F3ifv218XL62"
      },
      "source": [
        "<font color='Green'><b>\n",
        "\n",
        "An obvious pattern in this part is the comparison in performance between decisionTreeClassifier model and support vector machine model. This can be seen in the weighted average f1-score of SVC and Decision tree (0.82, vs 0.93) respectively. This may be due to the nature of the wine dataset. Decision trees are more flexible than SVMs and can handle linear and non-linear data. SVMs generally work with linearly separable data but need to be tuned and extended with an appropriate kernal function. \n",
        "\n",
        "</b></font>"
      ]
    },
    {
      "cell_type": "markdown",
      "id": "cd97b6ac",
      "metadata": {
        "id": "cd97b6ac"
      },
      "source": [
        "## **Part 4:** Reflection (2 marks)\n",
        "Include a sentence or two about:\n",
        "- what you liked or disliked,\n",
        "- found interesting, confusing, challangeing, motivating\n",
        "while working on this assignment."
      ]
    },
    {
      "cell_type": "markdown",
      "id": "tDFYc89YXQGJ",
      "metadata": {
        "id": "tDFYc89YXQGJ"
      },
      "source": [
        "<font color='Green'><b>\n",
        "In this assignment, I enjoyed practicing with machine learning models and applying concepts we have learned in lecture, especially the ideas of using decision trees and seeing the changes in performance in RF and GB.\n",
        "Something I found very interesting was the wine dataset, since it never occured to me how something as trivial as wine could have been classified with machine learning techniques.\n",
        "</b></font>"
      ]
    },
    {
      "cell_type": "markdown",
      "id": "fa21e53b",
      "metadata": {
        "id": "fa21e53b"
      },
      "source": [
        "## **Part 5:** Bonus Question (3 marks)\n",
        "\n",
        "Repeat Part 2 and compare the support vector machines model used to `LinearSVC(max_iter=5000)`. Does using `LinearSVC` improve the results? Why or why not?\n",
        "\n",
        "Is `LinearSVC` a good fit for this dataset? Why or why not?"
      ]
    },
    {
      "cell_type": "code",
      "execution_count": 99,
      "id": "30fea72e",
      "metadata": {
        "id": "30fea72e"
      },
      "outputs": [
        {
          "name": "stderr",
          "output_type": "stream",
          "text": [
            "c:\\Users\\night\\anaconda3\\lib\\site-packages\\sklearn\\svm\\_base.py:1206: ConvergenceWarning: Liblinear failed to converge, increase the number of iterations.\n",
            "  warnings.warn(\n",
            "c:\\Users\\night\\anaconda3\\lib\\site-packages\\sklearn\\svm\\_base.py:1206: ConvergenceWarning: Liblinear failed to converge, increase the number of iterations.\n",
            "  warnings.warn(\n",
            "c:\\Users\\night\\anaconda3\\lib\\site-packages\\sklearn\\svm\\_base.py:1206: ConvergenceWarning: Liblinear failed to converge, increase the number of iterations.\n",
            "  warnings.warn(\n",
            "c:\\Users\\night\\anaconda3\\lib\\site-packages\\sklearn\\svm\\_base.py:1206: ConvergenceWarning: Liblinear failed to converge, increase the number of iterations.\n",
            "  warnings.warn(\n",
            "c:\\Users\\night\\anaconda3\\lib\\site-packages\\sklearn\\svm\\_base.py:1206: ConvergenceWarning: Liblinear failed to converge, increase the number of iterations.\n",
            "  warnings.warn(\n",
            "c:\\Users\\night\\anaconda3\\lib\\site-packages\\sklearn\\svm\\_base.py:1206: ConvergenceWarning: Liblinear failed to converge, increase the number of iterations.\n",
            "  warnings.warn(\n"
          ]
        },
        {
          "name": "stdout",
          "output_type": "stream",
          "text": [
            "          Training Accuracy Validation Accuracy\n",
            "SVC                0.703456            0.644603\n",
            "DT                 0.967556            0.926984\n",
            "LinearSVC            0.8728             0.83127\n",
            "Confusion Matrix for LinearSVC\n",
            "              precision    recall  f1-score   support\n",
            "\n",
            "           1       1.00      0.69      0.81        16\n",
            "           2       0.83      0.95      0.88        20\n",
            "           3       0.73      0.89      0.80         9\n",
            "\n",
            "    accuracy                           0.84        45\n",
            "   macro avg       0.85      0.84      0.83        45\n",
            "weighted avg       0.87      0.84      0.84        45\n",
            "\n",
            "Number of incorrectly classified samples: 6\n"
          ]
        },
        {
          "data": {
            "image/png": "[encoded data removed]",
            "text/plain": [
              "<Figure size 576x396 with 2 Axes>"
            ]
          },
          "metadata": {},
          "output_type": "display_data"
        }
      ],
      "source": [
        "# TO DO: ADD YOUR CODE HERE\n",
        "from sklearn.svm import LinearSVC\n",
        "linearSVC = LinearSVC(random_state=random_state, max_iter=5000)\n",
        "linearSVC.fit(X_train, y_train)\n",
        "\n",
        "# Step 4. Validate the models\n",
        "scoring = \"accuracy\"\n",
        "linearSVC_cv_results = cross_validate(linearSVC, X, y, cv=5, scoring=scoring, return_train_score=True)\n",
        "linearSVCResults = {\n",
        "    \"train\": linearSVC_cv_results[\"train_score\"].mean(),\n",
        "    \"test\": linearSVC_cv_results[\"test_score\"].mean()\n",
        "}\n",
        "\n",
        "# Step 5: Visualize the results\n",
        "results = pd.DataFrame(columns=[\"Training Accuracy\", \"Validation Accuracy\"], index=[\"SVC\", \"DT\", \"LinearSVC\"])\n",
        "results.iloc[0] = [svcResults[\"train\"], svcResults[\"test\"]]\n",
        "results.iloc[1] = [dtResults[\"train\"], dtResults[\"test\"]]\n",
        "results.iloc[2] = [linearSVCResults[\"train\"], linearSVCResults[\"test\"]]\n",
        "print(results)\n",
        "\n",
        "cm = confusion_matrix(y_test, linearSVC.predict(X_test), labels=linearSVC.classes_)\n",
        "disp = ConfusionMatrixDisplay(confusion_matrix=cm, display_labels=linearSVC.classes_)\n",
        "print(\"Confusion Matrix for LinearSVC\")\n",
        "disp.plot()\n",
        "print(classification_report(y_test, linearSVC.predict(X_test)))\n",
        "\n",
        "incorrect_count = np.sum(cm != np.diag(cm))\n",
        "print(f\"Number of incorrectly classified samples: {incorrect_count}\")\n"
      ]
    },
    {
      "cell_type": "markdown",
      "id": "aabc68a4",
      "metadata": {
        "id": "aabc68a4"
      },
      "source": [
        "My analysis revealed that LinearSVC achieved improvements compared to the previous SVC model. This is evident in the higher weighted average F1-score (0.84) of LinearSVC compared to SVC's (0.82). Additionally, LinearSVC demonstrated an increase in both training accuracy (0.87 vs. 0.70) and validation accuracy (0.83 vs. 0.64) compared to SVC.\n",
        "\n",
        "However, despite these improvements, the DecisionTree model ultimately outperformed both LinearSVC and SVC. This is evidenced by its significantly higher weighted average F1-score (0.93) as well as its superior training accuracy (0.97) and validation accuracy (0.93).\n",
        "\n",
        "Therefore, based on these results, the DecisionTree model appears to be the most suitable choice for this specific task."
      ]
    }
  ],
  "metadata": {
    "colab": {
      "provenance": []
    },
    "kernelspec": {
      "display_name": "Python 3 (ipykernel)",
      "language": "python",
      "name": "python3"
    },
    "language_info": {
      "codemirror_mode": {
        "name": "ipython",
        "version": 3
      },
      "file_extension": ".py",
      "mimetype": "text/x-python",
      "name": "python",
      "nbconvert_exporter": "python",
      "pygments_lexer": "ipython3",
      "version": "3.9.12"
    }
  },
  "nbformat": 4,
  "nbformat_minor": 5
}
