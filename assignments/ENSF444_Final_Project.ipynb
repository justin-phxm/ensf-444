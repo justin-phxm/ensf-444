{
  "cells": [
    {
      "cell_type": "markdown",
      "id": "XOOs70pZsAKF",
      "metadata": {
        "id": "XOOs70pZsAKF"
      },
      "source": [
        "<font size=\"+3\"><b>Final Project: PCA and Clustering\n",
        "</b></font>\n",
        "\n",
        "***\n",
        "* **Full Name** = Justin Pham\n",
        "* **UCID** = 30139323\n",
        "***"
      ]
    },
    {
      "cell_type": "markdown",
      "id": "ba7f05d0",
      "metadata": {
        "id": "ba7f05d0"
      },
      "source": [
        "<font color='Blue'>\n",
        "The purpose of this assignment is to practice using PCA and clustering techniques on a given dataset.\n",
        "</font>"
      ]
    },
    {
      "cell_type": "markdown",
      "id": "-zeSnLrGawW2",
      "metadata": {
        "id": "-zeSnLrGawW2"
      },
      "source": [
        "<font color='Red'>\n",
        "For this assignment, in addition to your .ipynb file, please also attach a PDF file. To generate this PDF file, you can use the print function (located under the \"File\" within Jupyter Notebook). Name this file ENGG444_Final_Project_yourUCID.pdf (this name is similar to your main .ipynb file). We will evaluate your assignment based on the two files and you need to provide both.\n",
        "</font>\n",
        "\n",
        "\n",
        "|                 **Question**                | **Point(s)** |\n",
        "|:-------------------------------------------:|:------------:|\n",
        "| **1. Principle Component   Analysis (PCA)** |              |\n",
        "|                     1.1                     |       3      |\n",
        "|                     1.2                     |       2      |\n",
        "|                     1.3                     |       2      |\n",
        "|                     1.4                     |       3      |\n",
        "|                     1.5                     |       6      |\n",
        "|                     1.6                     |       2      |\n",
        "|         **2. Pipeline and Modeling**        |              |\n",
        "|                     2.1                     |       3      |\n",
        "|                     2.2                     |       2      |\n",
        "|                     2.3                     |       2      |\n",
        "|                     2.4                     |       3      |\n",
        "|            **3. Bonus Question**            |     **2**    |\n",
        "|                    Total                    |      28      |"
      ]
    },
    {
      "cell_type": "markdown",
      "id": "fe7cfa4f",
      "metadata": {
        "id": "fe7cfa4f"
      },
      "source": [
        "## Data\n",
        "\n",
        "The data on [this page](https://archive.ics.uci.edu/dataset/236/seeds) pertains to a study on wheat kernels, specifically focusing on the geometrical properties of kernels from three different wheat varieties: Kama, Rosa, and Canadian. Here's a summary of the key points:\n",
        "\n",
        "- **Dataset Characteristics**: The data is multivariate and real-valued, used for classification and clustering tasks in biology.\n",
        "- **Measurement Technique**: A soft X-ray technique was employed for high-quality visualization of the internal kernel structure, which is non-destructive and cost-effective compared to other methods.\n",
        "- **Geometric Parameters**: Seven parameters were measured for each kernel: area (A), perimeter (P), compactness (C = 4*pi*A/P^2), length, width, asymmetry coefficient, and length of kernel groove.\n",
        "- **Research Purpose**: The dataset facilitates the analysis of features in X-ray images of wheat kernels and can be applied to various statistical and machine learning tasks.\n",
        "\n",
        "This dataset was collected for an experiment conducted at the Institute of Agrophysics of the Polish Academy of Sciences in Lublin and has been cited in several research papers for its application in feature analysis and classification algorithms."
      ]
    },
    {
      "cell_type": "code",
      "execution_count": 45,
      "id": "uhbvQcUgaP1B",
      "metadata": {
        "id": "uhbvQcUgaP1B"
      },
      "outputs": [
        {
          "name": "stderr",
          "output_type": "stream",
          "text": [
            "'wget' is not recognized as an internal or external command,\n",
            "operable program or batch file.\n",
            "unzip:  cannot find or open seeds.zip, seeds.zip.zip or seeds.zip.ZIP.\n",
            "rm: cannot remove 'seeds.zip': No such file or directory\n"
          ]
        }
      ],
      "source": [
        "# Download the zip file using wget\n",
        "!wget -N \"https://archive.ics.uci.edu/static/public/236/seeds.zip\"\n",
        "\n",
        "# Unzip wine.data from the downloaded zip file\n",
        "!unzip -o seeds.zip seeds_dataset.txt\n",
        "\n",
        "# Remove the downloaded zip file after extraction\n",
        "!rm -r seeds.zip"
      ]
    },
    {
      "cell_type": "code",
      "execution_count": 55,
      "id": "474481f1",
      "metadata": {
        "id": "474481f1"
      },
      "outputs": [
        {
          "data": {
            "text/html": [
              "<div>\n",
              "<style scoped>\n",
              "    .dataframe tbody tr th:only-of-type {\n",
              "        vertical-align: middle;\n",
              "    }\n",
              "\n",
              "    .dataframe tbody tr th {\n",
              "        vertical-align: top;\n",
              "    }\n",
              "\n",
              "    .dataframe thead th {\n",
              "        text-align: right;\n",
              "    }\n",
              "</style>\n",
              "<table border=\"1\" class=\"dataframe\">\n",
              "  <thead>\n",
              "    <tr style=\"text-align: right;\">\n",
              "      <th></th>\n",
              "      <th>Area</th>\n",
              "      <th>Perimeter</th>\n",
              "      <th>Compactness</th>\n",
              "      <th>Length of Kernel</th>\n",
              "      <th>Width of Kernel</th>\n",
              "      <th>Asymmetry Coefficient</th>\n",
              "      <th>Length of Kernel Groove</th>\n",
              "      <th>Type</th>\n",
              "    </tr>\n",
              "  </thead>\n",
              "  <tbody>\n",
              "    <tr>\n",
              "      <th>0</th>\n",
              "      <td>15.26</td>\n",
              "      <td>14.84</td>\n",
              "      <td>0.8710</td>\n",
              "      <td>5.763</td>\n",
              "      <td>3.312</td>\n",
              "      <td>2.221</td>\n",
              "      <td>5.220</td>\n",
              "      <td>1</td>\n",
              "    </tr>\n",
              "    <tr>\n",
              "      <th>1</th>\n",
              "      <td>14.88</td>\n",
              "      <td>14.57</td>\n",
              "      <td>0.8811</td>\n",
              "      <td>5.554</td>\n",
              "      <td>3.333</td>\n",
              "      <td>1.018</td>\n",
              "      <td>4.956</td>\n",
              "      <td>1</td>\n",
              "    </tr>\n",
              "    <tr>\n",
              "      <th>2</th>\n",
              "      <td>14.29</td>\n",
              "      <td>14.09</td>\n",
              "      <td>0.9050</td>\n",
              "      <td>5.291</td>\n",
              "      <td>3.337</td>\n",
              "      <td>2.699</td>\n",
              "      <td>4.825</td>\n",
              "      <td>1</td>\n",
              "    </tr>\n",
              "    <tr>\n",
              "      <th>3</th>\n",
              "      <td>13.84</td>\n",
              "      <td>13.94</td>\n",
              "      <td>0.8955</td>\n",
              "      <td>5.324</td>\n",
              "      <td>3.379</td>\n",
              "      <td>2.259</td>\n",
              "      <td>4.805</td>\n",
              "      <td>1</td>\n",
              "    </tr>\n",
              "    <tr>\n",
              "      <th>4</th>\n",
              "      <td>16.14</td>\n",
              "      <td>14.99</td>\n",
              "      <td>0.9034</td>\n",
              "      <td>5.658</td>\n",
              "      <td>3.562</td>\n",
              "      <td>1.355</td>\n",
              "      <td>5.175</td>\n",
              "      <td>1</td>\n",
              "    </tr>\n",
              "    <tr>\n",
              "      <th>...</th>\n",
              "      <td>...</td>\n",
              "      <td>...</td>\n",
              "      <td>...</td>\n",
              "      <td>...</td>\n",
              "      <td>...</td>\n",
              "      <td>...</td>\n",
              "      <td>...</td>\n",
              "      <td>...</td>\n",
              "    </tr>\n",
              "    <tr>\n",
              "      <th>205</th>\n",
              "      <td>12.19</td>\n",
              "      <td>13.20</td>\n",
              "      <td>0.8783</td>\n",
              "      <td>5.137</td>\n",
              "      <td>2.981</td>\n",
              "      <td>3.631</td>\n",
              "      <td>4.870</td>\n",
              "      <td>3</td>\n",
              "    </tr>\n",
              "    <tr>\n",
              "      <th>206</th>\n",
              "      <td>11.23</td>\n",
              "      <td>12.88</td>\n",
              "      <td>0.8511</td>\n",
              "      <td>5.140</td>\n",
              "      <td>2.795</td>\n",
              "      <td>4.325</td>\n",
              "      <td>5.003</td>\n",
              "      <td>3</td>\n",
              "    </tr>\n",
              "    <tr>\n",
              "      <th>207</th>\n",
              "      <td>13.20</td>\n",
              "      <td>13.66</td>\n",
              "      <td>0.8883</td>\n",
              "      <td>5.236</td>\n",
              "      <td>3.232</td>\n",
              "      <td>8.315</td>\n",
              "      <td>5.056</td>\n",
              "      <td>3</td>\n",
              "    </tr>\n",
              "    <tr>\n",
              "      <th>208</th>\n",
              "      <td>11.84</td>\n",
              "      <td>13.21</td>\n",
              "      <td>0.8521</td>\n",
              "      <td>5.175</td>\n",
              "      <td>2.836</td>\n",
              "      <td>3.598</td>\n",
              "      <td>5.044</td>\n",
              "      <td>3</td>\n",
              "    </tr>\n",
              "    <tr>\n",
              "      <th>209</th>\n",
              "      <td>12.30</td>\n",
              "      <td>13.34</td>\n",
              "      <td>0.8684</td>\n",
              "      <td>5.243</td>\n",
              "      <td>2.974</td>\n",
              "      <td>5.637</td>\n",
              "      <td>5.063</td>\n",
              "      <td>3</td>\n",
              "    </tr>\n",
              "  </tbody>\n",
              "</table>\n",
              "<p>210 rows × 8 columns</p>\n",
              "</div>"
            ],
            "text/plain": [
              "      Area  Perimeter  Compactness  Length of Kernel  Width of Kernel  \\\n",
              "0    15.26      14.84       0.8710             5.763            3.312   \n",
              "1    14.88      14.57       0.8811             5.554            3.333   \n",
              "2    14.29      14.09       0.9050             5.291            3.337   \n",
              "3    13.84      13.94       0.8955             5.324            3.379   \n",
              "4    16.14      14.99       0.9034             5.658            3.562   \n",
              "..     ...        ...          ...               ...              ...   \n",
              "205  12.19      13.20       0.8783             5.137            2.981   \n",
              "206  11.23      12.88       0.8511             5.140            2.795   \n",
              "207  13.20      13.66       0.8883             5.236            3.232   \n",
              "208  11.84      13.21       0.8521             5.175            2.836   \n",
              "209  12.30      13.34       0.8684             5.243            2.974   \n",
              "\n",
              "     Asymmetry Coefficient  Length of Kernel Groove  Type  \n",
              "0                    2.221                    5.220     1  \n",
              "1                    1.018                    4.956     1  \n",
              "2                    2.699                    4.825     1  \n",
              "3                    2.259                    4.805     1  \n",
              "4                    1.355                    5.175     1  \n",
              "..                     ...                      ...   ...  \n",
              "205                  3.631                    4.870     3  \n",
              "206                  4.325                    5.003     3  \n",
              "207                  8.315                    5.056     3  \n",
              "208                  3.598                    5.044     3  \n",
              "209                  5.637                    5.063     3  \n",
              "\n",
              "[210 rows x 8 columns]"
            ]
          },
          "metadata": {},
          "output_type": "display_data"
        }
      ],
      "source": [
        "# 1. area A,\n",
        "# 2. perimeter P,\n",
        "# 3. compactness C = 4*pi*A/P^2,\n",
        "# 4. length of kernel,\n",
        "# 5. width of kernel,\n",
        "# 6. asymmetry coefficient\n",
        "# 7. length of kernel groove.\n",
        "\n",
        "# https://archive.ics.uci.edu/dataset/236/seeds\n",
        "\n",
        "import pandas as pd\n",
        "\n",
        "df = data = pd.read_csv('seeds_dataset.txt', sep = '\\s+', header = None)\n",
        "data.columns = ['Area', 'Perimeter', 'Compactness',\n",
        "                'Length of Kernel', 'Width of Kernel',\n",
        "                'Asymmetry Coefficient', 'Length of Kernel Groove', 'Type']\n",
        "display(data)"
      ]
    },
    {
      "cell_type": "markdown",
      "id": "3c84e8e3",
      "metadata": {
        "id": "3c84e8e3"
      },
      "source": [
        "## 1. Principle Component Analysis (PCA)"
      ]
    },
    {
      "cell_type": "markdown",
      "id": "e5024bec",
      "metadata": {
        "id": "e5024bec"
      },
      "source": [
        "### 1.1 Preprocessing (3 Points)\n",
        "\n",
        "- **Split the data into X and y** (0.5 Point)\n",
        "  - Assign the features to `X` and the target variable to `y`.\n",
        "\n",
        "- **Stratified Split of X and y into Train and Test Sets** (0.5 Point)\n",
        "  - Utilize stratification to ensure representative distribution of classes while splitting.\n",
        "\n",
        "- **Plot Train and Test Proportions in a Pie Chart** (2 Points)\n",
        "  - The pie chart should include:\n",
        "    - Labels indicating 'Training Set' and 'Test Set'.\n",
        "    - A title for the chart.\n",
        "    - Proportion percentages for the Training and Test sets displayed on each slice of the pie.\n",
        "    - The number of entries within the Training and Test sets shown below the corresponding percentage."
      ]
    },
    {
      "cell_type": "code",
      "execution_count": 47,
      "id": "15a5c76c",
      "metadata": {
        "id": "15a5c76c"
      },
      "outputs": [
        {
          "data": {
            "text/plain": [
              "Text(0.5, 1.0, 'Training data proportions for kernel dataset')"
            ]
          },
          "execution_count": 47,
          "metadata": {},
          "output_type": "execute_result"
        },
        {
          "data": {
            "image/png": "[encoded data removed]",
            "text/plain": [
              "<Figure size 640x480 with 1 Axes>"
            ]
          },
          "metadata": {},
          "output_type": "display_data"
        }
      ],
      "source": [
        "# 1.1\n",
        "# Add necessary code here.\n",
        "from sklearn.model_selection import train_test_split\n",
        "import matplotlib.pyplot as plt\n",
        "\n",
        "X = data.drop('Type', axis = 1)\n",
        "y = data['Type']\n",
        "X_train, X_test, y_train, y_test = train_test_split(X, y, test_size = 0.2, random_state = 0, stratify=y)\n",
        "\n",
        "labels = [f\"Training Set\\n({len(X_train)})\", f\"Test Set\\n({len(X_test)})\"]\n",
        "plot_Title = \"Training data proportions for kernel dataset\"\n",
        "sizes = [len(X_train), len(X_test)]\n",
        "\n",
        "fig, axes = plt.subplots()\n",
        "axes.pie(sizes, labels=labels, autopct='%1.1f%%')\n",
        "axes.set_title(plot_Title)\n"
      ]
    },
    {
      "cell_type": "markdown",
      "id": "k64eg7HBbn48",
      "metadata": {
        "id": "k64eg7HBbn48"
      },
      "source": [
        "<font color='Green'><b>Answer:</b></font>\n",
        "\n",
        "- **1.1** ....................."
      ]
    },
    {
      "cell_type": "markdown",
      "id": "f908b657",
      "metadata": {
        "id": "f908b657"
      },
      "source": [
        "### 1.2 Scaling the Data (2 Points)\n",
        "\n",
        "To ensure that our preprocessing pipeline optimizes the performance of our machine learning model, we need to scale the data appropriately.\n",
        "\n",
        "- **Selecting an Appropriate Scaler**:\n",
        "  - Explain your choice of scaler for the dataset. (1 Points)\n",
        "  - Justify your decision based on the characteristics of the data and the requirements of the algorithm being used. (1 Points)\n"
      ]
    },
    {
      "cell_type": "code",
      "execution_count": 48,
      "id": "4ed946a6",
      "metadata": {},
      "outputs": [],
      "source": [
        "from sklearn.preprocessing import StandardScaler\n",
        "\n",
        "scaler = StandardScaler()\n",
        "# X_train = scaler.fit_transform(X_train)\n",
        "# X_test = scaler.transform(X_test)\n"
      ]
    },
    {
      "cell_type": "markdown",
      "id": "282cbc43",
      "metadata": {
        "id": "282cbc43"
      },
      "source": [
        "<font color='Green'><b>Answer:</b></font>\n",
        "\n",
        "- **1.2** I used StandardScaler from the sklearn library. I used this scaler because I am familiar with it and it is easy to use. It standardizes features by removing the mean and scaling to unit variance. In addition, features with different units or scales of measurement will be scaled, allowing the algorithm to fairly weigh all the features.\n",
        "\n"
      ]
    },
    {
      "cell_type": "markdown",
      "id": "8cfa23f3",
      "metadata": {
        "id": "8cfa23f3"
      },
      "source": [
        "### 1.3 Model Selection and Justification (2 Points)\n",
        "\n",
        "- **Choose an Appropriate Machine Learning Model**:\n",
        "  - Identify the model that you believe is most suitable for the dataset.\n",
        "  - Provide a justification for your choice based on the dataset's characteristics."
      ]
    },
    {
      "cell_type": "code",
      "execution_count": 49,
      "id": "wRdBE-rFbuM8",
      "metadata": {
        "id": "wRdBE-rFbuM8"
      },
      "outputs": [],
      "source": [
        "# 1.3\n",
        "# Add necessary code here.\n",
        "from sklearn.ensemble import RandomForestClassifier\n",
        "\n",
        "_RANDOM_STATE = 42\n",
        "rf = RandomForestClassifier(random_state=_RANDOM_STATE)\n"
      ]
    },
    {
      "cell_type": "markdown",
      "id": "773d0687",
      "metadata": {
        "id": "773d0687"
      },
      "source": [
        "<font color='Green'><b>Answer:</b></font>\n",
        "\n",
        "- **1.3** \n",
        "The RandomForestClassifier is well-suited for this dataset due to several compelling reasons. First, it is designed to handle classification tasks, which aligns with the nature of the data in question. Furthermore, compared to certain other models, such as a single decision tree, Random Forest tends to achieve better performance metrics. This enhanced performance is partly because Random Forest can uncover complex, non-linear relationships between features and the target variable, which is beneficial in scenarios where the decision boundaries are intricate. Additionally, the ensemble method of Random Forest, which aggregates the outcomes of multiple decision trees, is generally more resilient to outliers and noise. This resilience stems from the ensemble's ability to balance out the eccentricities of individual trees, thereby producing a more reliable and generalizable model."
      ]
    },
    {
      "cell_type": "markdown",
      "id": "2177add4",
      "metadata": {
        "id": "2177add4"
      },
      "source": [
        "### 1.4 Hyperparameter Optimization with Grid Search (3 Points)\n",
        "\n",
        "- **Set Up the Grid Search**:\n",
        "  - Construct a pipeline that incorporates the selected scaler from part 1.2 to standardize the data.\n",
        "  - Execute a grid search within this pipeline to identify the best hyperparameter settings for your chosen model.\n",
        "  - Provide a broad and varied range of hyperparameter values to ensure a thorough search.\n"
      ]
    },
    {
      "cell_type": "code",
      "execution_count": 50,
      "id": "cw6f0w0DbvaE",
      "metadata": {
        "id": "cw6f0w0DbvaE"
      },
      "outputs": [
        {
          "name": "stderr",
          "output_type": "stream",
          "text": [
            "c:\\Users\\night\\miniconda3\\Lib\\site-packages\\sklearn\\model_selection\\_search.py:1051: UserWarning: One or more of the test scores are non-finite: [nan nan nan nan nan nan nan nan nan nan nan nan nan nan nan nan nan nan\n",
            " nan nan nan nan nan nan nan nan nan nan nan nan nan nan nan nan nan nan\n",
            " nan nan nan nan nan nan nan nan nan nan nan nan nan nan nan nan nan nan\n",
            " nan nan nan nan nan nan nan nan nan nan nan nan nan nan nan nan nan nan\n",
            " nan nan nan nan nan nan nan nan nan]\n",
            "  warnings.warn(\n"
          ]
        },
        {
          "name": "stdout",
          "output_type": "stream",
          "text": [
            "Best params:  {'classifier__max_depth': 4, 'classifier__min_samples_leaf': 1, 'classifier__min_samples_split': 2, 'classifier__n_estimators': 50}\n",
            "Best score:  0.9106951871657755\n",
            "Best params:  {'classifier__max_depth': 4, 'classifier__min_samples_leaf': 1, 'classifier__min_samples_split': 2, 'classifier__n_estimators': 50}\n",
            "Best score:  0.9305555555555556\n"
          ]
        },
        {
          "name": "stderr",
          "output_type": "stream",
          "text": [
            "c:\\Users\\night\\miniconda3\\Lib\\site-packages\\sklearn\\model_selection\\_search.py:1051: UserWarning: One or more of the test scores are non-finite: [nan nan nan nan nan nan nan nan nan nan nan nan nan nan nan nan nan nan\n",
            " nan nan nan nan nan nan nan nan nan nan nan nan nan nan nan nan nan nan\n",
            " nan nan nan nan nan nan nan nan nan nan nan nan nan nan nan nan nan nan\n",
            " nan nan nan nan nan nan nan nan nan nan nan nan nan nan nan nan nan nan\n",
            " nan nan nan nan nan nan nan nan nan]\n",
            "  warnings.warn(\n"
          ]
        }
      ],
      "source": [
        "# 1.4\n",
        "# Add necessary code here.\n",
        "from sklearn.metrics import f1_score, make_scorer, accuracy_score\n",
        "from sklearn.pipeline import Pipeline\n",
        "from sklearn.model_selection import train_test_split, GridSearchCV, cross_val_score\n",
        "\n",
        "\n",
        "steps = [scaler, rf]\n",
        "param_grid_rf = {\n",
        "    \"classifier__n_estimators\": [50, 100, 200],\n",
        "    \"classifier__max_depth\": [2, 3, 4],\n",
        "    \"classifier__min_samples_split\": [2, 3, 4], \n",
        "    \"classifier__min_samples_leaf\": [1, 2, 3],\n",
        "}\n",
        "scoring = {\n",
        "    'accuracy': make_scorer(accuracy_score),         # Scoring based on accuracy_score\n",
        "    'f1_score': make_scorer(f1_score)                # Scoring based on F1_score\n",
        "}\n",
        "\n",
        "pipe_rf = Pipeline([('scaler', scaler), ('classifier', rf)])\n",
        "grid_rf = GridSearchCV(pipe_rf, param_grid=param_grid_rf, cv=5, n_jobs=-1, scoring=scoring, refit='accuracy')\n",
        "def printResults(X, y):\n",
        "    grid_rf.fit(X, y)\n",
        "    best_params = grid_rf.best_params_\n",
        "    print(\"Best params: \", best_params)\n",
        "    print(\"Best score: \", grid_rf.best_score_)\n",
        "\n",
        "printResults(X_train, y_train)\n",
        "printResults(X_test, y_test)"
      ]
    },
    {
      "cell_type": "markdown",
      "id": "HisdcY2Zbw4M",
      "metadata": {
        "id": "HisdcY2Zbw4M"
      },
      "source": [
        "<font color='Green'><b>Answer:</b></font>\n",
        "\n",
        "- **1.4** ....................."
      ]
    },
    {
      "cell_type": "markdown",
      "id": "KHenrooWRjzm",
      "metadata": {
        "id": "KHenrooWRjzm"
      },
      "source": [
        "### 1.5 Dimensionality Reduction and Model Optimization (6 Points)\n",
        "\n",
        "- **Dimensionality Reduction Choice** (2 Points):\n",
        "  - Choose between PCA and t-SNE for reducing the dataset to two dimensions.\n",
        "  - Justify your selection based on the characteristics of the seeds dataset.\n",
        "\n",
        "- **Implement Dimensionality Reduction** (2 Points):\n",
        "  - Apply the chosen dimensionality reduction technique to the seeds dataset.\n",
        "  - Reduce the dataset to two dimensions as required.\n",
        "\n",
        "- **Model Optimization on Reduced Data** (2 Points):\n",
        "  - Redo the grid search from part 1.4 using the two-dimensional data.\n",
        "  - Compare the model's performance with the original higher-dimensional data."
      ]
    },
    {
      "cell_type": "code",
      "execution_count": 51,
      "id": "ENlNZK1ub7ws",
      "metadata": {
        "id": "ENlNZK1ub7ws"
      },
      "outputs": [
        {
          "name": "stderr",
          "output_type": "stream",
          "text": [
            "c:\\Users\\night\\miniconda3\\Lib\\site-packages\\sklearn\\model_selection\\_search.py:1051: UserWarning: One or more of the test scores are non-finite: [nan nan nan nan nan nan nan nan nan nan nan nan nan nan nan nan nan nan\n",
            " nan nan nan nan nan nan nan nan nan nan nan nan nan nan nan nan nan nan\n",
            " nan nan nan nan nan nan nan nan nan nan nan nan nan nan nan nan nan nan\n",
            " nan nan nan nan nan nan nan nan nan nan nan nan nan nan nan nan nan nan\n",
            " nan nan nan nan nan nan nan nan nan]\n",
            "  warnings.warn(\n"
          ]
        },
        {
          "name": "stdout",
          "output_type": "stream",
          "text": [
            "Best params:  {'classifier__max_depth': 4, 'classifier__min_samples_leaf': 2, 'classifier__min_samples_split': 2, 'classifier__n_estimators': 200}\n",
            "Best score:  0.9643493761140821\n",
            "Best params:  {'classifier__max_depth': 3, 'classifier__min_samples_leaf': 3, 'classifier__min_samples_split': 2, 'classifier__n_estimators': 50}\n",
            "Best score:  0.9527777777777778\n"
          ]
        },
        {
          "name": "stderr",
          "output_type": "stream",
          "text": [
            "c:\\Users\\night\\miniconda3\\Lib\\site-packages\\sklearn\\model_selection\\_search.py:1051: UserWarning: One or more of the test scores are non-finite: [nan nan nan nan nan nan nan nan nan nan nan nan nan nan nan nan nan nan\n",
            " nan nan nan nan nan nan nan nan nan nan nan nan nan nan nan nan nan nan\n",
            " nan nan nan nan nan nan nan nan nan nan nan nan nan nan nan nan nan nan\n",
            " nan nan nan nan nan nan nan nan nan nan nan nan nan nan nan nan nan nan\n",
            " nan nan nan nan nan nan nan nan nan]\n",
            "  warnings.warn(\n"
          ]
        }
      ],
      "source": [
        "# 1.5\n",
        "# Add necessary code here.\n",
        "from sklearn.decomposition import PCA\n",
        "import numpy as np\n",
        "\n",
        "\n",
        "pca = PCA()\n",
        "pca_result = pca.fit_transform(X)\n",
        "pca_df = pd.DataFrame(data=pca_result)\n",
        "pca_df['target'] = y\n",
        "\n",
        "X_train, X_test, y_train, y_test = train_test_split(pca_df.drop('target', axis=1), pca_df['target'], test_size = 0.2, random_state = _RANDOM_STATE, stratify=y)\n",
        "\n",
        "def printResults(X, y):\n",
        "    grid_rf.fit(X, y)\n",
        "    best_params = grid_rf.best_params_\n",
        "    print(\"Best params: \", best_params)\n",
        "    print(\"Best score: \", grid_rf.best_score_)\n",
        "\n",
        "printResults(X_train, y_train)\n",
        "printResults(X_test, y_test)"
      ]
    },
    {
      "cell_type": "markdown",
      "id": "qK_pfLzVb9Kr",
      "metadata": {
        "id": "qK_pfLzVb9Kr"
      },
      "source": [
        "<font color='Green'><b>Answer:</b></font>\n",
        "\n",
        "- **1.5** PCA goes well with this dataset since we are aiming to classify different seeds based on different features. PCA reduces the dimensionality of the dataset and helps determine the global structure of the data. PCA is also faster and has the advantage of interpretability in terms of the original features.\n",
        "\n",
        "\n",
        "without PCA:\n",
        "Best params:  {'classifier__max_depth': 4, 'classifier__min_samples_leaf': 1, 'classifier__min_samples_split': 2, 'classifier__n_estimators': 50}\n",
        "train Best score:  0.9106951871657755\n",
        "Best params:  {'classifier__max_depth': 4, 'classifier__min_samples_leaf': 1, 'classifier__min_samples_split': 2, 'classifier__n_estimators': 50}\n",
        "test Best score:  0.9305555555555556\n",
        "\n",
        "with PCA:\n",
        "Best params:  {'classifier__max_depth': 4, 'classifier__min_samples_leaf': 2, 'classifier__min_samples_split': 2, 'classifier__n_estimators': 200}\n",
        "train Best score:  0.9643493761140821\n",
        "Best params:  {'classifier__max_depth': 3, 'classifier__min_samples_leaf': 3, 'classifier__min_samples_split': 2, 'classifier__n_estimators': 50}\n",
        "test Best score:  0.9527777777777778"
      ]
    },
    {
      "cell_type": "markdown",
      "id": "hLqYEWqrUnzT",
      "metadata": {
        "id": "hLqYEWqrUnzT"
      },
      "source": [
        "### 1.6 Visualizing Reduced Dimensionality Data (2 Points)\n",
        "\n",
        "- **Create a 2D Scatter Plot for Training and Testing Sets**:\n",
        "  - Generate 1-row-two-column subplots for scatter plots for the two-dimensional training and testing data obtained from part 1.5.\n",
        "  - Clearly label the x-axis and y-axis for both plots.\n",
        "  - Include a legend in each plot that distinctly represents the distribution of the three classes (you can use different shapes and colors to represent different classes)."
      ]
    },
    {
      "cell_type": "code",
      "execution_count": 52,
      "id": "OlN_Ea9TUsVo",
      "metadata": {
        "id": "OlN_Ea9TUsVo"
      },
      "outputs": [
        {
          "data": {
            "image/png": "[encoded data removed]",
            "text/plain": [
              "<Figure size 1000x600 with 1 Axes>"
            ]
          },
          "metadata": {},
          "output_type": "display_data"
        }
      ],
      "source": [
        "# 1.6\n",
        "# Add necessary code here.\n",
        "\n",
        "plt.figure(figsize=(10, 6))\n",
        "for seed in range(3):\n",
        "  plt.scatter(pca_df[pca_df['target'] == seed + 1][0], pca_df[pca_df['target'] == seed + 1][1], label=f\"Seed {seed + 1}\")\n",
        "plt.xlabel('Principal Component 1')\n",
        "plt.ylabel('Principal Component 2')\n",
        "plt.title('PCA of Kernel Dataset')\n",
        "plt.legend()\n",
        "plt.show()\n"
      ]
    },
    {
      "cell_type": "markdown",
      "id": "3bf578b1",
      "metadata": {
        "id": "3bf578b1"
      },
      "source": [
        "## 2. Clustering and Visualization of the Seeds Dataset"
      ]
    },
    {
      "cell_type": "markdown",
      "id": "tSuKPKYtXOqo",
      "metadata": {
        "id": "tSuKPKYtXOqo"
      },
      "source": [
        "### 2.1 Create a Pipeline for Scaling and K-Means Clustering (3 Points)\n",
        "\n",
        "- Construct a pipeline that includes a scaler and the K-Means clustering algorithm.\n",
        "- Use the `KelbowVisualizer` with `metric='calinski_harabasz'` from Yellowbrick to determine the optimal number of clusters, `k`.\n",
        "- Explain the results of the `KelbowVisualizer`."
      ]
    },
    {
      "cell_type": "code",
      "execution_count": 78,
      "id": "u12HFmYNXQvg",
      "metadata": {
        "id": "u12HFmYNXQvg"
      },
      "outputs": [
        {
          "data": {
            "image/png": "[encoded data removed]",
            "text/plain": [
              "<Figure size 800x550 with 1 Axes>"
            ]
          },
          "metadata": {},
          "output_type": "display_data"
        },
        {
          "data": {
            "text/plain": [
              "<Axes: title={'center': 'Calinski Harabasz Score Elbow for KMeans Clustering'}, xlabel='k', ylabel='calinski harabasz score'>"
            ]
          },
          "execution_count": 78,
          "metadata": {},
          "output_type": "execute_result"
        }
      ],
      "source": [
        "# 2.1\n",
        "# Add necessary code here.\n",
        "from sklearn.cluster import KMeans\n",
        "from sklearn.pipeline import make_pipeline\n",
        "from yellowbrick.cluster import KElbowVisualizer\n",
        "\n",
        "X = df.iloc[:, :-1]\n",
        "model =    KMeans(random_state=42)\n",
        "scaler = StandardScaler()\n",
        "pipeline = make_pipeline(\n",
        "    scaler,\n",
        "    model\n",
        ") \n",
        "visualizer = KElbowVisualizer(model, k=(2,10), metric='calinski_harabasz', timings=False)\n",
        "visualizer.fit(scaler.fit_transform(X))  # Fit the data to the visualizer\n",
        "visualizer.show()  # Finalize and render the figure\n"
      ]
    },
    {
      "cell_type": "markdown",
      "id": "ubYW3yzIYOev",
      "metadata": {
        "id": "ubYW3yzIYOev"
      },
      "source": [
        "<font color='Green'><b>Answer:</b></font>\n",
        "\n",
        "- **2.1**\n",
        "The KelbowVisualizer implements the \"elbow\" method to help data scientists select the optimal number of clusters by fitting the model with a range of values for k. For each value of k, the model's performance is evaluated using the calinski_harabasz scoring metric. The graph shows us that the best k value is 2 and the score gradually decreases as k increases."
      ]
    },
    {
      "cell_type": "markdown",
      "id": "RSI8FWbVYsQU",
      "metadata": {
        "id": "RSI8FWbVYsQU"
      },
      "source": [
        "### 2.2 Label the Data Using the Optimal Number of Clusters (2 Points)\n",
        "- Label the training data using the pipeline that includes both the scaler and K-Means with the optimal `k` found in part 2.1."
      ]
    },
    {
      "cell_type": "code",
      "execution_count": 80,
      "id": "oghD_WIAYtn7",
      "metadata": {
        "id": "oghD_WIAYtn7"
      },
      "outputs": [
        {
          "data": {
            "text/plain": [
              "array([1, 1, 1, 1, 0, 1, 1, 1, 0, 0, 1, 1, 1, 1, 1, 1, 1, 0, 1, 1, 1, 1,\n",
              "       0, 1, 1, 0, 1, 1, 1, 1, 1, 1, 1, 1, 1, 0, 0, 0, 1, 1, 1, 1, 1, 0,\n",
              "       1, 1, 1, 1, 1, 1, 1, 1, 1, 1, 1, 1, 1, 1, 1, 1, 1, 1, 1, 1, 1, 1,\n",
              "       1, 1, 1, 1, 0, 0, 0, 0, 0, 0, 0, 0, 0, 0, 0, 0, 0, 0, 0, 0, 0, 0,\n",
              "       0, 0, 0, 0, 0, 0, 0, 0, 0, 0, 0, 0, 0, 0, 0, 0, 0, 0, 0, 0, 0, 0,\n",
              "       0, 0, 0, 0, 0, 0, 0, 0, 0, 0, 0, 0, 0, 0, 0, 0, 0, 0, 0, 0, 0, 0,\n",
              "       0, 0, 0, 0, 0, 0, 0, 0, 1, 1, 1, 1, 1, 1, 1, 1, 1, 1, 1, 1, 1, 1,\n",
              "       1, 1, 1, 1, 1, 1, 1, 1, 1, 1, 1, 1, 1, 1, 1, 1, 1, 1, 1, 1, 1, 1,\n",
              "       1, 1, 1, 1, 1, 1, 1, 1, 1, 1, 1, 1, 1, 1, 1, 1, 1, 1, 1, 1, 1, 1,\n",
              "       1, 1, 1, 1, 1, 1, 1, 1, 1, 1, 1, 1])"
            ]
          },
          "execution_count": 80,
          "metadata": {},
          "output_type": "execute_result"
        }
      ],
      "source": [
        "# 2.2\n",
        "# Add necessary code here.\n",
        "\n",
        "k_optimal = 2\n",
        "\n",
        "pipeline = Pipeline([\n",
        "    ('scaler', StandardScaler()),\n",
        "    ('kmeans', KMeans(n_clusters=k_optimal, random_state=_RANDOM_STATE)),\n",
        "])\n",
        "pipeline.fit(X)\n",
        "\n",
        "cluster_labels = pipeline.predict(X)\n",
        "cluster_labels\n",
        "\n"
      ]
    },
    {
      "cell_type": "markdown",
      "id": "Wbq4Xt5uYyZH",
      "metadata": {
        "id": "Wbq4Xt5uYyZH"
      },
      "source": [
        "### 2.3 Dimensionality Reduction Using PCA (2 Points)\n",
        "- Apply PCA to reduce the dimensionality of the dataset to 2D."
      ]
    },
    {
      "cell_type": "code",
      "execution_count": 91,
      "id": "6Off0lQlYz8o",
      "metadata": {
        "id": "6Off0lQlYz8o"
      },
      "outputs": [
        {
          "data": {
            "text/html": [
              "<div>\n",
              "<style scoped>\n",
              "    .dataframe tbody tr th:only-of-type {\n",
              "        vertical-align: middle;\n",
              "    }\n",
              "\n",
              "    .dataframe tbody tr th {\n",
              "        vertical-align: top;\n",
              "    }\n",
              "\n",
              "    .dataframe thead th {\n",
              "        text-align: right;\n",
              "    }\n",
              "</style>\n",
              "<table border=\"1\" class=\"dataframe\">\n",
              "  <thead>\n",
              "    <tr style=\"text-align: right;\">\n",
              "      <th></th>\n",
              "      <th>pca0</th>\n",
              "      <th>pca1</th>\n",
              "      <th>pca2</th>\n",
              "      <th>pca3</th>\n",
              "      <th>pca4</th>\n",
              "      <th>pca5</th>\n",
              "      <th>pca6</th>\n",
              "    </tr>\n",
              "  </thead>\n",
              "  <tbody>\n",
              "    <tr>\n",
              "      <th>0</th>\n",
              "      <td>0.663448</td>\n",
              "      <td>-1.417321</td>\n",
              "      <td>0.041236</td>\n",
              "      <td>0.204508</td>\n",
              "      <td>-0.022950</td>\n",
              "      <td>-0.016195</td>\n",
              "      <td>-0.000468</td>\n",
              "    </tr>\n",
              "    <tr>\n",
              "      <th>1</th>\n",
              "      <td>0.315667</td>\n",
              "      <td>-2.689229</td>\n",
              "      <td>0.231727</td>\n",
              "      <td>0.159047</td>\n",
              "      <td>0.013652</td>\n",
              "      <td>-0.011923</td>\n",
              "      <td>0.003372</td>\n",
              "    </tr>\n",
              "    <tr>\n",
              "      <th>2</th>\n",
              "      <td>-0.660499</td>\n",
              "      <td>-1.131506</td>\n",
              "      <td>0.527087</td>\n",
              "      <td>0.004501</td>\n",
              "      <td>0.009702</td>\n",
              "      <td>0.012343</td>\n",
              "      <td>-0.003812</td>\n",
              "    </tr>\n",
              "    <tr>\n",
              "      <th>3</th>\n",
              "      <td>-1.055276</td>\n",
              "      <td>-1.621190</td>\n",
              "      <td>0.437015</td>\n",
              "      <td>0.013738</td>\n",
              "      <td>-0.047391</td>\n",
              "      <td>-0.108916</td>\n",
              "      <td>0.008139</td>\n",
              "    </tr>\n",
              "    <tr>\n",
              "      <th>4</th>\n",
              "      <td>1.619999</td>\n",
              "      <td>-2.183384</td>\n",
              "      <td>0.333991</td>\n",
              "      <td>0.015436</td>\n",
              "      <td>-0.015315</td>\n",
              "      <td>-0.025988</td>\n",
              "      <td>0.001728</td>\n",
              "    </tr>\n",
              "    <tr>\n",
              "      <th>...</th>\n",
              "      <td>...</td>\n",
              "      <td>...</td>\n",
              "      <td>...</td>\n",
              "      <td>...</td>\n",
              "      <td>...</td>\n",
              "      <td>...</td>\n",
              "      <td>...</td>\n",
              "    </tr>\n",
              "    <tr>\n",
              "      <th>205</th>\n",
              "      <td>-3.041872</td>\n",
              "      <td>-0.473126</td>\n",
              "      <td>0.195045</td>\n",
              "      <td>-0.078221</td>\n",
              "      <td>-0.037126</td>\n",
              "      <td>0.027254</td>\n",
              "      <td>-0.002288</td>\n",
              "    </tr>\n",
              "    <tr>\n",
              "      <th>206</th>\n",
              "      <td>-4.109063</td>\n",
              "      <td>0.109341</td>\n",
              "      <td>-0.087401</td>\n",
              "      <td>-0.089661</td>\n",
              "      <td>-0.052781</td>\n",
              "      <td>0.009596</td>\n",
              "      <td>0.004280</td>\n",
              "    </tr>\n",
              "    <tr>\n",
              "      <th>207</th>\n",
              "      <td>-2.500034</td>\n",
              "      <td>4.307965</td>\n",
              "      <td>0.532818</td>\n",
              "      <td>-0.025882</td>\n",
              "      <td>-0.017149</td>\n",
              "      <td>-0.069708</td>\n",
              "      <td>-0.003557</td>\n",
              "    </tr>\n",
              "    <tr>\n",
              "      <th>208</th>\n",
              "      <td>-3.332079</td>\n",
              "      <td>-0.525290</td>\n",
              "      <td>-0.098108</td>\n",
              "      <td>-0.058140</td>\n",
              "      <td>0.024417</td>\n",
              "      <td>0.033612</td>\n",
              "      <td>0.000808</td>\n",
              "    </tr>\n",
              "    <tr>\n",
              "      <th>209</th>\n",
              "      <td>-3.107551</td>\n",
              "      <td>1.549757</td>\n",
              "      <td>0.121283</td>\n",
              "      <td>-0.038621</td>\n",
              "      <td>-0.039875</td>\n",
              "      <td>-0.004017</td>\n",
              "      <td>-0.003616</td>\n",
              "    </tr>\n",
              "  </tbody>\n",
              "</table>\n",
              "<p>210 rows × 7 columns</p>\n",
              "</div>"
            ],
            "text/plain": [
              "         pca0      pca1      pca2      pca3      pca4      pca5      pca6\n",
              "0    0.663448 -1.417321  0.041236  0.204508 -0.022950 -0.016195 -0.000468\n",
              "1    0.315667 -2.689229  0.231727  0.159047  0.013652 -0.011923  0.003372\n",
              "2   -0.660499 -1.131506  0.527087  0.004501  0.009702  0.012343 -0.003812\n",
              "3   -1.055276 -1.621190  0.437015  0.013738 -0.047391 -0.108916  0.008139\n",
              "4    1.619999 -2.183384  0.333991  0.015436 -0.015315 -0.025988  0.001728\n",
              "..        ...       ...       ...       ...       ...       ...       ...\n",
              "205 -3.041872 -0.473126  0.195045 -0.078221 -0.037126  0.027254 -0.002288\n",
              "206 -4.109063  0.109341 -0.087401 -0.089661 -0.052781  0.009596  0.004280\n",
              "207 -2.500034  4.307965  0.532818 -0.025882 -0.017149 -0.069708 -0.003557\n",
              "208 -3.332079 -0.525290 -0.098108 -0.058140  0.024417  0.033612  0.000808\n",
              "209 -3.107551  1.549757  0.121283 -0.038621 -0.039875 -0.004017 -0.003616\n",
              "\n",
              "[210 rows x 7 columns]"
            ]
          },
          "execution_count": 91,
          "metadata": {},
          "output_type": "execute_result"
        }
      ],
      "source": [
        "# 2.3\n",
        "# Add necessary code here.\n",
        "pca = PCA().set_output(transform=\"pandas\")\n",
        "pca_result = pca.fit_transform(X)\n",
        "pca_result"
      ]
    },
    {
      "cell_type": "markdown",
      "id": "He9Ku5U_Y4Pn",
      "metadata": {
        "id": "He9Ku5U_Y4Pn"
      },
      "source": [
        "#### 2.4 Plot the 2D Data with Cluster Labels (3 Points)\n",
        "- Create a 2D scatter plot of the PCA-reduced data.\n",
        "- Color the points using the labels obtained from K-Means clustering."
      ]
    },
    {
      "cell_type": "code",
      "execution_count": 103,
      "id": "POBknNOwY6Oz",
      "metadata": {
        "id": "POBknNOwY6Oz"
      },
      "outputs": [
        {
          "data": {
            "image/png": "[encoded data removed]",
            "text/plain": [
              "<Figure size 1000x600 with 1 Axes>"
            ]
          },
          "metadata": {},
          "output_type": "display_data"
        }
      ],
      "source": [
        "# 2.4\n",
        "# Add necessary code here.\n",
        "pca_result['cluster'] = cluster_labels\n",
        "pca_result\n",
        "plt.figure(figsize=(10, 6))\n",
        "\n",
        "for cluster in range(k_optimal):\n",
        "  plt.scatter(\n",
        "    pca_result.loc[pca_result['cluster'] == cluster].iloc[:, 0],\n",
        "    pca_result.loc[pca_result['cluster'] == cluster].iloc[:, 1],\n",
        "    label=f\"Cluster {cluster}\"\n",
        "  )\n",
        "plt.xlabel('Principal Component 1')\n",
        "plt.ylabel('Principal Component 2')\n",
        "plt.title('PCA of Kernel Dataset')\n",
        "plt.legend()\n",
        "plt.show()"
      ]
    },
    {
      "cell_type": "markdown",
      "id": "4kILrSH9aDvn",
      "metadata": {
        "id": "4kILrSH9aDvn"
      },
      "source": [
        "## Bonus Question: Interpretation of Clustering Results (2 Points)\n",
        "\n",
        "- **Analyze and Interpret the Clustering Outcome**:\n",
        "  - Based on the 2D PCA plot with K-Means clustering labels from part 2.4, provide an interpretation of the clustering results.\n",
        "  - Discuss any patterns or insights observed from the plot, considering the distribution and overlap of clusters."
      ]
    },
    {
      "cell_type": "markdown",
      "id": "nUOBtxvfcVbW",
      "metadata": {
        "id": "nUOBtxvfcVbW"
      },
      "source": [
        "<font color='Green'><b>Answer:</b></font>\n",
        "\n",
        "- **Bonus Question** ....................."
      ]
    }
  ],
  "metadata": {
    "colab": {
      "provenance": []
    },
    "kernelspec": {
      "display_name": "Python 3 (ipykernel)",
      "language": "python",
      "name": "python3"
    },
    "language_info": {
      "codemirror_mode": {
        "name": "ipython",
        "version": 3
      },
      "file_extension": ".py",
      "mimetype": "text/x-python",
      "name": "python",
      "nbconvert_exporter": "python",
      "pygments_lexer": "ipython3",
      "version": "3.11.5"
    }
  },
  "nbformat": 4,
  "nbformat_minor": 5
}
