{
  "cells": [
    {
      "cell_type": "markdown",
      "id": "92778525",
      "metadata": {
        "id": "92778525"
      },
      "source": [
        "<font size=\"+3\"><b>Assignment 4: Pipelines and Hyperparameter Tuning</b></font>\n",
        "\n",
        "***\n",
        "* **Full Name** = Justin Pham   \n",
        "* **UCID** = 30139323\n",
        "***"
      ]
    },
    {
      "cell_type": "markdown",
      "id": "ce31b39a",
      "metadata": {
        "id": "ce31b39a"
      },
      "source": [
        "<font color='Blue'>\n",
        "In this assignment, you will be putting together everything you have learned so far. You will need to find your own dataset, do all the appropriate preprocessing, test different supervised learning models, and evaluate the results. More details for each step can be found below. You will also be asked to describe the process by which you came up with the code. More details can be found below. Please cite any websites or AI tools that you used to help you with this assignment.\n",
        "</font>"
      ]
    },
    {
      "cell_type": "markdown",
      "id": "T0uItvnoRoUB",
      "metadata": {
        "id": "T0uItvnoRoUB"
      },
      "source": [
        "<font color='Red'>\n",
        "For this assignment, in addition to your .ipynb file, please also attach a PDF file. To generate this PDF file, you can use the print function (located under the \"File\" within Jupyter Notebook). Name this file ENGG444_Assignment##__yourUCID.pdf (this name is similar to your main .ipynb file). We will evaluate your assignment based on the two files and you need to provide both.\n",
        "</font>\n",
        "\n",
        "\n",
        "|         **Question**         | **Point(s)** |\n",
        "|:----------------------------:|:------------:|\n",
        "|  **1. Preprocessing Tasks**  |              |\n",
        "|              1.1             |       2      |\n",
        "|              1.2             |       2      |\n",
        "|              1.3             |       4      |\n",
        "| **2. Pipeline and Modeling** |              |\n",
        "|              2.1             |       3      |\n",
        "|              2.2             |       6      |\n",
        "|              2.3             |       5      |\n",
        "|              2.4             |       3      |\n",
        "|     **3. Bonus Question**    |     **2**    |\n",
        "|           **Total**          |    **27**    |"
      ]
    },
    {
      "cell_type": "markdown",
      "id": "OpeMjIV9VLgM",
      "metadata": {
        "id": "OpeMjIV9VLgM"
      },
      "source": [
        "## **0. Dataset**\n",
        "\n",
        "This data is a subset of the **Heart Disease Dataset**, which contains information about patients with possible coronary artery disease. The data has **14 attributes** and **294 instances**. The attributes include demographic, clinical, and laboratory features, such as age, sex, chest pain type, blood pressure, cholesterol, and electrocardiogram results. The last attribute is the **diagnosis of heart disease**, which is a categorical variable with values from 0 (no presence) to 4 (high presence). The data can be used for **classification** tasks, such as predicting the presence or absence of heart disease based on the other attributes."
      ]
    },
    {
      "cell_type": "code",
      "execution_count": 50,
      "id": "YiaUdCQYVWj-",
      "metadata": {
        "id": "YiaUdCQYVWj-"
      },
      "outputs": [
        {
          "data": {
            "text/html": [
              "<div>\n",
              "<style scoped>\n",
              "    .dataframe tbody tr th:only-of-type {\n",
              "        vertical-align: middle;\n",
              "    }\n",
              "\n",
              "    .dataframe tbody tr th {\n",
              "        vertical-align: top;\n",
              "    }\n",
              "\n",
              "    .dataframe thead th {\n",
              "        text-align: right;\n",
              "    }\n",
              "</style>\n",
              "<table border=\"1\" class=\"dataframe\">\n",
              "  <thead>\n",
              "    <tr style=\"text-align: right;\">\n",
              "      <th></th>\n",
              "      <th>age</th>\n",
              "      <th>sex</th>\n",
              "      <th>cp</th>\n",
              "      <th>trestbps</th>\n",
              "      <th>chol</th>\n",
              "      <th>fbs</th>\n",
              "      <th>restecg</th>\n",
              "      <th>thalach</th>\n",
              "      <th>exang</th>\n",
              "      <th>oldpeak</th>\n",
              "      <th>slope</th>\n",
              "      <th>ca</th>\n",
              "      <th>thal</th>\n",
              "      <th>num</th>\n",
              "    </tr>\n",
              "  </thead>\n",
              "  <tbody>\n",
              "    <tr>\n",
              "      <th>0</th>\n",
              "      <td>28</td>\n",
              "      <td>1</td>\n",
              "      <td>2</td>\n",
              "      <td>130.0</td>\n",
              "      <td>132.0</td>\n",
              "      <td>0.0</td>\n",
              "      <td>2.0</td>\n",
              "      <td>185.0</td>\n",
              "      <td>0.0</td>\n",
              "      <td>0.0</td>\n",
              "      <td>NaN</td>\n",
              "      <td>NaN</td>\n",
              "      <td>NaN</td>\n",
              "      <td>0</td>\n",
              "    </tr>\n",
              "    <tr>\n",
              "      <th>1</th>\n",
              "      <td>29</td>\n",
              "      <td>1</td>\n",
              "      <td>2</td>\n",
              "      <td>120.0</td>\n",
              "      <td>243.0</td>\n",
              "      <td>0.0</td>\n",
              "      <td>0.0</td>\n",
              "      <td>160.0</td>\n",
              "      <td>0.0</td>\n",
              "      <td>0.0</td>\n",
              "      <td>NaN</td>\n",
              "      <td>NaN</td>\n",
              "      <td>NaN</td>\n",
              "      <td>0</td>\n",
              "    </tr>\n",
              "    <tr>\n",
              "      <th>2</th>\n",
              "      <td>29</td>\n",
              "      <td>1</td>\n",
              "      <td>2</td>\n",
              "      <td>140.0</td>\n",
              "      <td>NaN</td>\n",
              "      <td>0.0</td>\n",
              "      <td>0.0</td>\n",
              "      <td>170.0</td>\n",
              "      <td>0.0</td>\n",
              "      <td>0.0</td>\n",
              "      <td>NaN</td>\n",
              "      <td>NaN</td>\n",
              "      <td>NaN</td>\n",
              "      <td>0</td>\n",
              "    </tr>\n",
              "    <tr>\n",
              "      <th>3</th>\n",
              "      <td>30</td>\n",
              "      <td>0</td>\n",
              "      <td>1</td>\n",
              "      <td>170.0</td>\n",
              "      <td>237.0</td>\n",
              "      <td>0.0</td>\n",
              "      <td>1.0</td>\n",
              "      <td>170.0</td>\n",
              "      <td>0.0</td>\n",
              "      <td>0.0</td>\n",
              "      <td>NaN</td>\n",
              "      <td>NaN</td>\n",
              "      <td>6.0</td>\n",
              "      <td>0</td>\n",
              "    </tr>\n",
              "    <tr>\n",
              "      <th>4</th>\n",
              "      <td>31</td>\n",
              "      <td>0</td>\n",
              "      <td>2</td>\n",
              "      <td>100.0</td>\n",
              "      <td>219.0</td>\n",
              "      <td>0.0</td>\n",
              "      <td>1.0</td>\n",
              "      <td>150.0</td>\n",
              "      <td>0.0</td>\n",
              "      <td>0.0</td>\n",
              "      <td>NaN</td>\n",
              "      <td>NaN</td>\n",
              "      <td>NaN</td>\n",
              "      <td>0</td>\n",
              "    </tr>\n",
              "    <tr>\n",
              "      <th>...</th>\n",
              "      <td>...</td>\n",
              "      <td>...</td>\n",
              "      <td>...</td>\n",
              "      <td>...</td>\n",
              "      <td>...</td>\n",
              "      <td>...</td>\n",
              "      <td>...</td>\n",
              "      <td>...</td>\n",
              "      <td>...</td>\n",
              "      <td>...</td>\n",
              "      <td>...</td>\n",
              "      <td>...</td>\n",
              "      <td>...</td>\n",
              "      <td>...</td>\n",
              "    </tr>\n",
              "    <tr>\n",
              "      <th>289</th>\n",
              "      <td>52</td>\n",
              "      <td>1</td>\n",
              "      <td>4</td>\n",
              "      <td>160.0</td>\n",
              "      <td>331.0</td>\n",
              "      <td>0.0</td>\n",
              "      <td>0.0</td>\n",
              "      <td>94.0</td>\n",
              "      <td>1.0</td>\n",
              "      <td>2.5</td>\n",
              "      <td>NaN</td>\n",
              "      <td>NaN</td>\n",
              "      <td>NaN</td>\n",
              "      <td>1</td>\n",
              "    </tr>\n",
              "    <tr>\n",
              "      <th>290</th>\n",
              "      <td>54</td>\n",
              "      <td>0</td>\n",
              "      <td>3</td>\n",
              "      <td>130.0</td>\n",
              "      <td>294.0</td>\n",
              "      <td>0.0</td>\n",
              "      <td>1.0</td>\n",
              "      <td>100.0</td>\n",
              "      <td>1.0</td>\n",
              "      <td>0.0</td>\n",
              "      <td>2.0</td>\n",
              "      <td>NaN</td>\n",
              "      <td>NaN</td>\n",
              "      <td>1</td>\n",
              "    </tr>\n",
              "    <tr>\n",
              "      <th>291</th>\n",
              "      <td>56</td>\n",
              "      <td>1</td>\n",
              "      <td>4</td>\n",
              "      <td>155.0</td>\n",
              "      <td>342.0</td>\n",
              "      <td>1.0</td>\n",
              "      <td>0.0</td>\n",
              "      <td>150.0</td>\n",
              "      <td>1.0</td>\n",
              "      <td>3.0</td>\n",
              "      <td>2.0</td>\n",
              "      <td>NaN</td>\n",
              "      <td>NaN</td>\n",
              "      <td>1</td>\n",
              "    </tr>\n",
              "    <tr>\n",
              "      <th>292</th>\n",
              "      <td>58</td>\n",
              "      <td>0</td>\n",
              "      <td>2</td>\n",
              "      <td>180.0</td>\n",
              "      <td>393.0</td>\n",
              "      <td>0.0</td>\n",
              "      <td>0.0</td>\n",
              "      <td>110.0</td>\n",
              "      <td>1.0</td>\n",
              "      <td>1.0</td>\n",
              "      <td>2.0</td>\n",
              "      <td>NaN</td>\n",
              "      <td>7.0</td>\n",
              "      <td>1</td>\n",
              "    </tr>\n",
              "    <tr>\n",
              "      <th>293</th>\n",
              "      <td>65</td>\n",
              "      <td>1</td>\n",
              "      <td>4</td>\n",
              "      <td>130.0</td>\n",
              "      <td>275.0</td>\n",
              "      <td>0.0</td>\n",
              "      <td>1.0</td>\n",
              "      <td>115.0</td>\n",
              "      <td>1.0</td>\n",
              "      <td>1.0</td>\n",
              "      <td>2.0</td>\n",
              "      <td>NaN</td>\n",
              "      <td>NaN</td>\n",
              "      <td>1</td>\n",
              "    </tr>\n",
              "  </tbody>\n",
              "</table>\n",
              "<p>294 rows × 14 columns</p>\n",
              "</div>"
            ],
            "text/plain": [
              "     age  sex  cp  trestbps   chol  fbs  restecg  thalach  exang  oldpeak  \\\n",
              "0     28    1   2     130.0  132.0  0.0      2.0    185.0    0.0      0.0   \n",
              "1     29    1   2     120.0  243.0  0.0      0.0    160.0    0.0      0.0   \n",
              "2     29    1   2     140.0    NaN  0.0      0.0    170.0    0.0      0.0   \n",
              "3     30    0   1     170.0  237.0  0.0      1.0    170.0    0.0      0.0   \n",
              "4     31    0   2     100.0  219.0  0.0      1.0    150.0    0.0      0.0   \n",
              "..   ...  ...  ..       ...    ...  ...      ...      ...    ...      ...   \n",
              "289   52    1   4     160.0  331.0  0.0      0.0     94.0    1.0      2.5   \n",
              "290   54    0   3     130.0  294.0  0.0      1.0    100.0    1.0      0.0   \n",
              "291   56    1   4     155.0  342.0  1.0      0.0    150.0    1.0      3.0   \n",
              "292   58    0   2     180.0  393.0  0.0      0.0    110.0    1.0      1.0   \n",
              "293   65    1   4     130.0  275.0  0.0      1.0    115.0    1.0      1.0   \n",
              "\n",
              "     slope  ca  thal  num  \n",
              "0      NaN NaN   NaN    0  \n",
              "1      NaN NaN   NaN    0  \n",
              "2      NaN NaN   NaN    0  \n",
              "3      NaN NaN   6.0    0  \n",
              "4      NaN NaN   NaN    0  \n",
              "..     ...  ..   ...  ...  \n",
              "289    NaN NaN   NaN    1  \n",
              "290    2.0 NaN   NaN    1  \n",
              "291    2.0 NaN   NaN    1  \n",
              "292    2.0 NaN   7.0    1  \n",
              "293    2.0 NaN   NaN    1  \n",
              "\n",
              "[294 rows x 14 columns]"
            ]
          },
          "metadata": {},
          "output_type": "display_data"
        }
      ],
      "source": [
        "import pandas as pd\n",
        "\n",
        "# Define the data source link\n",
        "_link = 'https://archive.ics.uci.edu/ml/machine-learning-databases/heart-disease/processed.hungarian.data'\n",
        "\n",
        "# Read the CSV file into a Pandas DataFrame, considering '?' as missing values\n",
        "df = pd.read_csv(_link, na_values='?',\n",
        "                 names=['age', 'sex', 'cp', 'trestbps', 'chol', 'fbs',\n",
        "                        'restecg', 'thalach', 'exang', 'oldpeak', 'slope',\n",
        "                        'ca', 'thal', 'num'])\n",
        "\n",
        "# Display the DataFrame\n",
        "display(df)"
      ]
    },
    {
      "cell_type": "markdown",
      "id": "mlcrJpGLWBOH",
      "metadata": {
        "id": "mlcrJpGLWBOH"
      },
      "source": [
        "# **1. Preprocessing Tasks**\n",
        "\n",
        "- **1.1** Find out which columns have more than 60% of their values missing and drop them from the data frame. Explain why this is a reasonable way to handle these columns. **(2 Points)**\n",
        "\n",
        "- **1.2** For the remaining columns that have some missing values, choose an appropriate imputation method to fill them in. You can use the `SimpleImputer` class from `sklearn.impute` or any other method you prefer. Explain why you chose this method and how it affects the data. **(2 Points)**\n",
        "\n",
        "- **1.3** Assign the `num` column to the variable `y` and the rest of the columns to the variable `X`. The `num` column indicates the presence or absence of heart disease based on the angiographic disease status of the patients. Create a `ColumnTransformer` object that applies different preprocessing steps to different subsets of features. Use `StandardScaler` for the numerical features, `OneHotEncoder` for the categorical features, and `passthrough` for the binary features. List the names of the features that belong to each group and explain why they need different transformations. You will use this `ColumnTransformer` in a pipeline in the next question. **(4 Points)**"
      ]
    },
    {
      "cell_type": "markdown",
      "id": "yyRJQ25hXHNF",
      "metadata": {
        "id": "yyRJQ25hXHNF"
      },
      "source": [
        "<font color='Green'><b>Answer:</b></font>\n",
        "\n",
        "- **1.1** missing data is generally unfavourable in machine learning since it can result in more inaccurate models and more difficult to tune and train."
      ]
    },
    {
      "cell_type": "code",
      "execution_count": 51,
      "id": "NzUkBHBfYBzF",
      "metadata": {
        "id": "NzUkBHBfYBzF"
      },
      "outputs": [
        {
          "name": "stdout",
          "output_type": "stream",
          "text": [
            "age          0\n",
            "sex          0\n",
            "cp           0\n",
            "trestbps     1\n",
            "chol        23\n",
            "fbs          8\n",
            "restecg      1\n",
            "thalach      1\n",
            "exang        1\n",
            "oldpeak      0\n",
            "num          0\n",
            "dtype: int64\n",
            "age          38\n",
            "sex           2\n",
            "cp            4\n",
            "trestbps     31\n",
            "chol        153\n",
            "fbs           2\n",
            "restecg       3\n",
            "thalach      71\n",
            "exang         2\n",
            "oldpeak      10\n",
            "num           2\n",
            "dtype: int64\n"
          ]
        }
      ],
      "source": [
        "# 1.1\n",
        "# Add necessary code here.\n",
        "# TO DO: Check if there are any missing values and fill them in if necessary\n",
        "threshHold = 0.6 * len(df)\n",
        "df.dropna(thresh=threshHold, axis=1, inplace=True)\n",
        "\n",
        "print(df.isna().sum())\n",
        "# print number of unique values\n",
        "print(df.nunique())"
      ]
    },
    {
      "cell_type": "markdown",
      "id": "xkk6IDQRXgJM",
      "metadata": {
        "id": "xkk6IDQRXgJM"
      },
      "source": [
        "<font color='Green'><b>Answer:</b></font>\n",
        "\n",
        "- **1.2** I chose simpleImputer because it is fast and easy to use. I am only filling in missing data with the mean of that column. Because we filled in missing data with the mean, this may we result in our model having slightly less accuracy."
      ]
    },
    {
      "cell_type": "code",
      "execution_count": 52,
      "id": "t7Hw48YkZcCb",
      "metadata": {
        "id": "t7Hw48YkZcCb"
      },
      "outputs": [
        {
          "name": "stdout",
          "output_type": "stream",
          "text": [
            "age         0\n",
            "sex         0\n",
            "cp          0\n",
            "trestbps    0\n",
            "chol        0\n",
            "fbs         0\n",
            "restecg     0\n",
            "thalach     0\n",
            "exang       0\n",
            "oldpeak     0\n",
            "num         0\n",
            "dtype: int64\n"
          ]
        }
      ],
      "source": [
        "# 1.2\n",
        "# Add necessary code here.\n",
        "from sklearn.impute import SimpleImputer\n",
        "imputer = SimpleImputer(strategy='median')\n",
        "df = pd.DataFrame(imputer.fit_transform(df), columns=df.columns)\n",
        "print(df.isna().sum())"
      ]
    },
    {
      "cell_type": "markdown",
      "id": "TS8GSVmmXoOg",
      "metadata": {
        "id": "TS8GSVmmXoOg"
      },
      "source": [
        "<font color='Green'><b>Answer:</b></font>\n",
        "\n",
        "- **1.3** \n",
        "\n",
        "numerical_features: \n",
        "\n",
        "```['age', 'cp', 'trestbps', 'chol', 'restecg', 'thalach', 'oldpeak']```\n",
        "\n",
        "binary_features:\n",
        "```['sex', 'fbs', 'exang']```"
      ]
    },
    {
      "cell_type": "code",
      "execution_count": 53,
      "id": "pCxLaTmQXYC7",
      "metadata": {
        "id": "pCxLaTmQXYC7"
      },
      "outputs": [
        {
          "name": "stdout",
          "output_type": "stream",
          "text": [
            "numerical_features:  Index(['age', 'cp', 'trestbps', 'chol', 'restecg', 'thalach', 'oldpeak'], dtype='object')\n",
            "categorial_features:  Index([], dtype='object')\n",
            "binary_features:  Index(['sex', 'fbs', 'exang'], dtype='object')\n"
          ]
        },
        {
          "data": {
            "text/plain": [
              "age          38\n",
              "sex           2\n",
              "cp            4\n",
              "trestbps     31\n",
              "chol        153\n",
              "fbs           2\n",
              "restecg       3\n",
              "thalach      71\n",
              "exang         2\n",
              "oldpeak      10\n",
              "dtype: int64"
            ]
          },
          "execution_count": 53,
          "metadata": {},
          "output_type": "execute_result"
        }
      ],
      "source": [
        "# 1.3\n",
        "# Add necessary code here.\n",
        "y = df['num']\n",
        "X = df.drop(columns='num')\n",
        "\n",
        "from sklearn.compose import ColumnTransformer\n",
        "from sklearn.preprocessing import StandardScaler, OrdinalEncoder, OneHotEncoder\n",
        "# get features from X where column is numerical\n",
        "numerical_features = X.select_dtypes(include=['int64', 'float64']).columns\n",
        "categorical_features = X.select_dtypes(include=['object']).columns\n",
        "# Binary features is the features in numerical features that have only 2 unique values\n",
        "binary_features = X[numerical_features].nunique()[X[numerical_features].nunique() == 2].index\n",
        "# Drop the binary features from numerical_features\n",
        "numerical_features = numerical_features.drop(binary_features)\n",
        "preprocessor = ColumnTransformer(\n",
        "    transformers=[\n",
        "        ('num', StandardScaler(), numerical_features),\n",
        "        ('cat', OneHotEncoder(), categorical_features),\n",
        "        (\"pt\", \"passthrough\", binary_features)\n",
        "    ]).set_output(transform =\"pandas\")\n",
        "print(\"numerical_features: \", numerical_features)\n",
        "print(\"categorial_features: \", categorical_features)\n",
        "print(\"binary_features: \", binary_features)\n",
        "X.nunique()"
      ]
    },
    {
      "cell_type": "markdown",
      "id": "2a245d00",
      "metadata": {
        "id": "2a245d00"
      },
      "source": [
        "# **2. Pipeline and Modeling**\n",
        "\n",
        "- **2.1** Create **three** `Pipeline` objects that take the column transformer from the previous question as the first step and add one or more models as the subsequent steps. You can use any models from `sklearn` or other libraries that are suitable for binary classification. For each pipeline, explain **why** you selected the model(s) and what are their **strengths and weaknesses** for this data set. **(3 Points)**\n",
        "\n",
        "- **2.2** Use `GridSearchCV` to perform a grid search over the hyperparameters of each pipeline and find the best combination that maximizes the cross-validation score. Report the best parameters and the best score for each pipeline. Then, update the hyperparameters of each pipeline using the best parameters from the grid search. **(6 Points)**\n",
        "\n",
        "- **2.3** Form a stacking classifier that uses the three pipelines from the previous question as the base estimators and a meta-model as the `final_estimator`. You can choose any model for the meta-model that is suitable for binary classification. Explain **why** you chose the meta-model and how it combines the predictions of the base estimators. Then, use `StratifiedKFold` to perform a cross-validation on the stacking classifier and present the accuracy scores and F1 scores for each fold. Report the mean and the standard deviation of each score in the format of `mean ± std`. For example, `0.85 ± 0.05`. Interpret the results and compare them with the baseline scores from the previous assignment. **(5 Points)**\n",
        "\n",
        "- **2.4**: Interpret the final results of the stacking classifier and compare its performance with the individual models. Explain how stacking classifier has improved or deteriorated the prediction accuracy and F1 score, and what are the possible reasons for that. **(3 Points)**"
      ]
    },
    {
      "cell_type": "markdown",
      "id": "GSpSIu-BY1Kn",
      "metadata": {
        "id": "GSpSIu-BY1Kn"
      },
      "source": [
        "<font color='Green'><b>Answer:</b></font>\n",
        "\n",
        "- **2.1** \n",
        "\n",
        "The three modles I have chosen are decision tree classifier, support vector classifier, and KNN classifier.\n",
        "\n",
        "\n",
        "I chose decision tree classifier because decision trees are great options for classification and regression models. This makes them flexible for different types of data.\n",
        "\n",
        "Strengths:\n",
        "1. Works for both classficiation and regression, making them very flexible\n",
        "1. Can be combined in forests for even greater accuracy and performance.\n",
        "1. Easy to interpret and visualize, making it clear how decisions are made.\n",
        "\n",
        "Weaknesses:\n",
        "1. Prone to overfitting if not properly tuned.\n",
        "1. Not very powerful on it's own, usually combined with forests.\n",
        "1. Sensitive to changes in the training data, potentially leading to unstable predictions for small variations.\n",
        "\n",
        "I chose support vector classifier because SVC can capture relationships between different features.\n",
        "\n",
        "Strengths:\n",
        "1. Powerful for high-dimensional data and works well with small datasets.\n",
        "1. Can handle complex non-linear relationships between features using kernel functions.\n",
        "\n",
        "Weaknesses:\n",
        "1. Hard to explain and understand\n",
        "1. Can be computationally expensive for very large datasets due to the optimization process.\n",
        "1. Choosing the right kernel function and its hyperparameters can be crucial for performance and can involve trial-and-error.\n",
        "\n",
        "\n",
        "I chose knn classifier because it is simple to explain and understand.\n",
        "\n",
        "Strengths:\n",
        "1. Easy to explain and understand\n",
        "1. Makes no assumptions about the underlying data distribution.\n",
        "1. Minimal tuning necessary\n",
        "\n",
        "\n",
        "Weaknesses:\n",
        "1. Performance can be slow for high-dimensional data due to distance calculations for all neighbors.\n",
        "1. Can suffer from the \"curse of dimensionality\" in high dimensions, where distances become meaningless.\n"
      ]
    },
    {
      "cell_type": "code",
      "execution_count": 75,
      "id": "qYMtXgFtOBMT",
      "metadata": {
        "id": "qYMtXgFtOBMT"
      },
      "outputs": [],
      "source": [
        "# 2.1\n",
        "# Add necessary code here.\n",
        "from sklearn.pipeline import Pipeline\n",
        "from sklearn import tree, svm\n",
        "from sklearn.neighbors import KNeighborsClassifier\n",
        "\n",
        "pipe_dt = Pipeline( [(\"preprocessor\", preprocessor), (\"classifier\", tree.DecisionTreeClassifier())] )\n",
        "pipe_svm = Pipeline([(\"preprocessor\", preprocessor), (\"classifier\", svm.SVC())])\n",
        "pipe_knn = Pipeline([(\"preprocessor\", preprocessor), (\"classifier\", KNeighborsClassifier())])"
      ]
    },
    {
      "cell_type": "markdown",
      "id": "NPSo4pBVe1GR",
      "metadata": {
        "id": "NPSo4pBVe1GR"
      },
      "source": [
        "<font color='Green'><b>Answer:</b></font>\n",
        "\n",
        "- **2.2** \n",
        "\n",
        "Scores from first run of GridSearchCV:\n",
        "```\n",
        "DecisionTreeClassifier()\n",
        "Best Parameters based on F1: {'classifier__max_depth': 3}\n",
        "\n",
        "Best score:  0.6467727756114853\n",
        "\n",
        "\n",
        "KNeighborsClassifier()\n",
        "Best Parameters based on F1: {'classifier__n_neighbors': 9}\n",
        "\n",
        "Best score:  0.7650912349299446\n",
        "\n",
        "\n",
        "SVC()\n",
        "Best Parameters based on F1: {'classifier__C': 1, 'classifier__gamma': 1, 'classifier__kernel': 'linear'}\n",
        "\n",
        "Best score:  0.726170264370604\n",
        "```"
      ]
    },
    {
      "cell_type": "code",
      "execution_count": 79,
      "id": "f5c2d924",
      "metadata": {},
      "outputs": [
        {
          "name": "stdout",
          "output_type": "stream",
          "text": [
            "DecisionTreeClassifier()\n",
            "Accuracy scores: [0.8        0.77446809 0.77446809]\n",
            "\n",
            "F1 scores: [0.67879121 0.64308047 0.64563919]\n",
            "\n",
            "Best Parameters based on F1: {'classifier__max_depth': 2}\n",
            "\n",
            "Best score:  0.6787912087912088\n",
            "\n",
            "\n"
          ]
        },
        {
          "name": "stdout",
          "output_type": "stream",
          "text": [
            "KNeighborsClassifier()\n",
            "Accuracy scores: [0.81276596 0.83829787 0.81702128]\n",
            "\n",
            "F1 scores: [0.70846347 0.76509123 0.72311303]\n",
            "\n",
            "Best Parameters based on F1: {'classifier__n_neighbors': 9}\n",
            "\n",
            "Best score:  0.7650912349299446\n",
            "\n",
            "\n",
            "SVC()\n",
            "Accuracy scores: [0.80851064 0.63829787 0.63829787 0.63829787 0.80851064 0.63829787\n",
            " 0.63829787 0.63829787 0.80851064 0.81702128 0.63829787 0.63829787\n",
            " 0.80851064 0.76170213 0.63829787 0.63829787 0.80851064 0.74042553\n",
            " 0.63829787 0.63829787 0.82553191 0.63829787 0.63829787 0.63829787\n",
            " 0.82553191 0.69787234 0.76170213 0.80425532 0.82553191 0.73191489\n",
            " 0.63829787 0.76170213 0.82553191 0.68510638 0.63829787 0.77021277\n",
            " 0.82553191 0.6893617  0.63829787 0.74893617 0.81702128 0.63829787\n",
            " 0.80425532 0.80851064 0.81702128 0.82553191 0.80851064 0.80425532\n",
            " 0.81702128 0.69787234 0.71914894 0.70638298 0.81702128 0.70638298\n",
            " 0.68085106 0.74893617 0.81702128 0.70638298 0.65106383 0.71914894\n",
            " 0.80851064 0.63829787 0.81276596 0.81276596 0.80851064 0.83404255\n",
            " 0.81276596 0.80851064 0.80851064 0.70638298 0.72765957 0.71489362\n",
            " 0.80851064 0.70638298 0.69787234 0.71914894 0.80851064 0.70638298\n",
            " 0.66808511 0.71489362 0.80851064 0.63829787 0.80851064 0.81276596\n",
            " 0.80851064 0.8212766  0.80425532 0.81276596 0.80851064 0.70638298\n",
            " 0.73191489 0.73617021 0.80851064 0.70638298 0.69787234 0.73617021\n",
            " 0.80851064 0.70638298 0.67234043 0.74042553]\n",
            "\n",
            "F1 scores: [0.70012971 0.         0.         0.         0.70012971 0.\n",
            " 0.         0.         0.70012971 0.72584565 0.         0.\n",
            " 0.70012971 0.66869048 0.         0.         0.70012971 0.64928589\n",
            " 0.         0.         0.74337491 0.         0.         0.\n",
            " 0.74337491 0.29027417 0.56610595 0.69483871 0.74337491 0.6339884\n",
            " 0.         0.68757576 0.74337491 0.57182023 0.         0.6918601\n",
            " 0.74337491 0.57836785 0.         0.67112671 0.72617026 0.\n",
            " 0.69726313 0.70012971 0.72617026 0.69408867 0.71946402 0.70944444\n",
            " 0.72617026 0.59429858 0.45307374 0.59667542 0.72617026 0.60088589\n",
            " 0.2507177  0.66765143 0.72617026 0.60088589 0.12464495 0.62905149\n",
            " 0.71405733 0.         0.71231938 0.711367   0.71405733 0.71862939\n",
            " 0.72570426 0.71511649 0.71405733 0.60529765 0.51044807 0.59346926\n",
            " 0.71405733 0.60088589 0.36321678 0.62892602 0.71405733 0.60088589\n",
            " 0.19966583 0.61163895 0.71405733 0.         0.71017319 0.71379141\n",
            " 0.71405733 0.70338624 0.71174626 0.73138544 0.71405733 0.60088589\n",
            " 0.52155918 0.62534816 0.71405733 0.60088589 0.36321678 0.64776006\n",
            " 0.71405733 0.60088589 0.21756057 0.64280752]\n",
            "\n",
            "Best Parameters based on F1: {'classifier__C': 0.1, 'classifier__gamma': 0.01, 'classifier__kernel': 'linear'}\n",
            "\n",
            "Best score:  0.7433749145591251\n",
            "\n",
            "\n"
          ]
        }
      ],
      "source": [
        "# 2.2\n",
        "# Add necessary code here.\n",
        "from sklearn.metrics import f1_score, accuracy_score, make_scorer\n",
        "from sklearn.model_selection import train_test_split, GridSearchCV, cross_val_score\n",
        "\n",
        "RANDOM_STATE = 42\n",
        "\n",
        "X_train, X_test, y_train, y_test = train_test_split(X, y, test_size=0.2, random_state=RANDOM_STATE)\n",
        "\n",
        "param_grid_dt = {\n",
        "    \"classifier__max_depth\": [2, 3, 4],\n",
        "}\n",
        "param_grid_knn = {\n",
        "    \"classifier__n_neighbors\": [8, 9, 10],\n",
        "}\n",
        "param_grid_svm = {\n",
        "    \"classifier__C\": [0.01, 0.1, 1, 1.5, 2],\n",
        "    \"classifier__gamma\": [0.01, 0.1, 1, 1.5, 2],\n",
        "    \"classifier__kernel\" : [\"linear\", \"poly\", \"rbf\", \"sigmoid\"]\n",
        "}\n",
        "scoring = {\n",
        "    'accuracy': make_scorer(accuracy_score),         # Scoring based on accuracy_score\n",
        "    'f1_score': make_scorer(f1_score)                # Scoring based on F1_score\n",
        "}\n",
        "\n",
        "def gridSearchResults(pipe, param_grid):\n",
        "    grid_search = GridSearchCV(pipe, param_grid, cv=5, scoring=scoring, refit='f1_score',  n_jobs=-1)\n",
        "    grid_search.fit(X_train, y_train)\n",
        "    best_params = grid_search.best_params_\n",
        "    results = grid_search.cv_results_\n",
        "    print(pipe.get_params()['classifier'])\n",
        "    print(\"Accuracy scores:\", results['mean_test_accuracy'])  # Print mean_test_accuracy\n",
        "    print(\"\\nF1 scores:\", results['mean_test_f1_score'])        # Print mean F1 scores\n",
        "    print(\"\\nBest Parameters based on F1:\", best_params)  # Print best parameters based on F1 score\n",
        "    print(\"\\nBest score: \", grid_search.best_score_)\n",
        "    print(\"\\n\")\n",
        "    return best_params\n",
        "    \n",
        "for pipe, param_grid in zip([ pipe_dt, pipe_knn, pipe_svm], [ param_grid_dt, param_grid_knn, param_grid_svm]):\n",
        "    gridSearchResults(pipe, param_grid)\n"
      ]
    },
    {
      "cell_type": "markdown",
      "id": "ygOeNB-PamnU",
      "metadata": {
        "id": "ygOeNB-PamnU"
      },
      "source": [
        "<font color='Green'><b>Answer:</b></font>\n",
        "\n",
        "- **2.3** I chose to use the RandomForestClassifier as the final_estimator since this model has high performance for both classification and regression data. In addition, Random Forest can capture complex interactions between features, making it more powerful for datasets where the relationship between features and the target is not linear.Due to its ensemble nature, Random Forest is less likely to overfit compared to a single decision tree. It combines the predictions of the base estimators by leveraging the strengths of each base model and learns how to best weigh their predictions with the meta-model. This can improve the performance and generalization ability of a single model, especially when the base models have different biases or assumptions."
      ]
    },
    {
      "cell_type": "code",
      "execution_count": 83,
      "id": "UvhsbjmYP2G_",
      "metadata": {
        "id": "UvhsbjmYP2G_"
      },
      "outputs": [],
      "source": [
        "# 2.3\n",
        "# Add necessary code here.\n",
        "from sklearn.ensemble import StackingClassifier, RandomForestClassifier\n",
        "from sklearn.model_selection import StratifiedKFold, cross_val_score\n",
        "\n",
        "# Define a list of base estimators for stacking\n",
        "estimators = [\n",
        "    (\"Decision Tree\", pipe_dt),\n",
        "    (\"SVM\", pipe_svm),\n",
        "    (\"KNN\", pipe_knn)\n",
        "]\n",
        "\n",
        "# Create a stacking_classifier with specified base estimators and final estimator as RandomForestClassifier\n",
        "stacking_classifier = StackingClassifier(\n",
        "    estimators=estimators,      # List of base estimators\n",
        "    final_estimator=RandomForestClassifier()       # Final estimator for meta-regression (RandomForestClassifier in this case)\n",
        ")\n",
        "\n",
        "cv = StratifiedKFold(n_splits=5, random_state=42, shuffle=True)\n",
        "accuracy_scores = cross_val_score(stacking_classifier, X, y, scoring='accuracy', cv=cv, n_jobs=-1)\n",
        "f1_scores = cross_val_score(stacking_classifier, X, y, scoring='f1', cv=cv, n_jobs=-1)\n",
        "accuracy_mean = accuracy_scores.mean()\n",
        "accuracy_std = accuracy_scores.std()\n",
        "f1_mean = f1_scores.mean()\n",
        "f1_std = f1_scores.std()\n",
        "\n",
        "print(f\"Accuracy: {accuracy_mean:.2f} ± {accuracy_std:.2f}\")\n",
        "print(f\"F1 Score: {f1_mean:.2f} ± {f1_std:.2f}\")\n"
      ]
    },
    {
      "cell_type": "markdown",
      "id": "A-TN9hr3b77-",
      "metadata": {
        "id": "A-TN9hr3b77-"
      },
      "source": [
        "<font color='Green'><b>Answer:</b></font>\n",
        "\n",
        "- **2.4** ....................."
      ]
    },
    {
      "cell_type": "markdown",
      "id": "RPa-v8Xxc7aU",
      "metadata": {
        "id": "RPa-v8Xxc7aU"
      },
      "source": [
        "**Bonus Question**: The stacking classifier has achieved a high accuracy and F1 score, but there may be still room for improvement. Suggest **two** possible ways to improve the modeling using the stacking classifier, and explain **how** and **why** they could improve the performance. **(2 points)**"
      ]
    },
    {
      "cell_type": "markdown",
      "id": "IrSooo0DfC-V",
      "metadata": {
        "id": "IrSooo0DfC-V"
      },
      "source": [
        "<font color='Green'><b>Answer:</b></font>"
      ]
    },
    {
      "cell_type": "code",
      "execution_count": null,
      "id": "8bd7b9d5",
      "metadata": {},
      "outputs": [],
      "source": []
    }
  ],
  "metadata": {
    "colab": {
      "provenance": []
    },
    "kernelspec": {
      "display_name": "Python 3 (ipykernel)",
      "language": "python",
      "name": "python3"
    },
    "language_info": {
      "codemirror_mode": {
        "name": "ipython",
        "version": 3
      },
      "file_extension": ".py",
      "mimetype": "text/x-python",
      "name": "python",
      "nbconvert_exporter": "python",
      "pygments_lexer": "ipython3",
      "version": "3.10.13"
    }
  },
  "nbformat": 4,
  "nbformat_minor": 5
}
